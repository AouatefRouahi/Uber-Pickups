{
 "cells": [
  {
   "cell_type": "markdown",
   "metadata": {},
   "source": [
    "# Conversion Prediction: EDA\n",
    "-------\n",
    "The **Data Science Weekly Newsletter** wants to figure out a way to increase the conversion rate of visitors. In particular, they want to accurately predict whether a visitor to their website will end up subscribing to the newsletter.\n",
    " \n",
    ">In this first phase of the project,we will try to:  \n",
    "\n",
    ">> explore the data and   \n",
    "perform a preprocessing if needed. \n",
    "\n",
    "> Please go to the folder **Viz**, to see the different visualizations.\n",
    "------"
   ]
  },
  {
   "cell_type": "markdown",
   "metadata": {},
   "source": [
    "### Table of Contents\n",
    "\n",
    "* [1. Load Data](#section1)\n",
    "* [2. EDA](#section2)\n",
    "    * [2.1. Explore Dataset](#section21)\n",
    "    * [2.2. Unique values](#section21)\n",
    "    * [2.3. Missing values](#section22)\n",
    "    * [2.4. Duplicates](#section23)\n",
    "    * [2.5. Sampling](#section24)\n",
    "    * [2.6. Univariate Analysis](#section25)\n",
    "    * [2.7. Bivariate Analysis](#section26)\n",
    "    * [2.8. Correlation](#section27)\n",
    "* [3. Key Insights](#section3)"
   ]
  },
  {
   "cell_type": "markdown",
   "metadata": {},
   "source": [
    " #### Import useful modules ⬇️⬇️ and Global params"
   ]
  },
  {
   "cell_type": "code",
   "execution_count": 1,
   "metadata": {},
   "outputs": [],
   "source": [
    "# Importing useful libraries\n",
    "# generic libs\n",
    "import os\n",
    "import pandas as pd\n",
    "from numpy import round\n",
    "\n",
    "#plotting libs\n",
    "from plotly.subplots import make_subplots\n",
    "import plotly.express as px\n",
    "import plotly.io as pio\n",
    "pio.renderers.default = \"iframe\" \n",
    "\n",
    "#ignore warnings\n",
    "import warnings\n",
    "warnings.filterwarnings('ignore')\n",
    "\n",
    "# Predefined Functions\n",
    "from modules import MyFunctions as MyFunct\n",
    "\n",
    "# Global parameters \n",
    "train_filepath = 'data/conversion_data_train.csv'\n",
    "pre_train_filepath = 'data/pre_conversion_data_train.csv'\n",
    "\n",
    "if not os.path.exists(\"Viz\"):\n",
    "    os.mkdir(\"Viz\")\n",
    "    \n",
    "viz_path = \"Viz/\"\n",
    "\n",
    "sample_size = 10_000\n",
    "seed = 42"
   ]
  },
  {
   "cell_type": "markdown",
   "metadata": {},
   "source": [
    " # Load Data"
   ]
  },
  {
   "cell_type": "code",
   "execution_count": 2,
   "metadata": {
    "tags": []
   },
   "outputs": [
    {
     "name": "stdout",
     "output_type": "stream",
     "text": [
      "Loading dataset...\n",
      "...Done.\n",
      "\n"
     ]
    }
   ],
   "source": [
    "print(\"Loading dataset...\")\n",
    "dataset = pd.read_csv(train_filepath)\n",
    "print(\"...Done.\")\n",
    "print()"
   ]
  },
  {
   "cell_type": "markdown",
   "metadata": {},
   "source": [
    "# EDA"
   ]
  },
  {
   "cell_type": "markdown",
   "metadata": {},
   "source": [
    "## Explore Dataset"
   ]
  },
  {
   "cell_type": "code",
   "execution_count": 3,
   "metadata": {
    "tags": []
   },
   "outputs": [
    {
     "name": "stdout",
     "output_type": "stream",
     "text": [
      "Shape : (284580, 6)\n",
      "\n",
      "data types : \n",
      "country                object\n",
      "age                     int64\n",
      "new_user                int64\n",
      "source                 object\n",
      "total_pages_visited     int64\n",
      "converted               int64\n",
      "dtype: object\n",
      "\n",
      "Display of dataset: \n"
     ]
    },
    {
     "data": {
      "text/html": [
       "<div>\n",
       "<style scoped>\n",
       "    .dataframe tbody tr th:only-of-type {\n",
       "        vertical-align: middle;\n",
       "    }\n",
       "\n",
       "    .dataframe tbody tr th {\n",
       "        vertical-align: top;\n",
       "    }\n",
       "\n",
       "    .dataframe thead th {\n",
       "        text-align: right;\n",
       "    }\n",
       "</style>\n",
       "<table border=\"1\" class=\"dataframe\">\n",
       "  <thead>\n",
       "    <tr style=\"text-align: right;\">\n",
       "      <th></th>\n",
       "      <th>country</th>\n",
       "      <th>age</th>\n",
       "      <th>new_user</th>\n",
       "      <th>source</th>\n",
       "      <th>total_pages_visited</th>\n",
       "      <th>converted</th>\n",
       "    </tr>\n",
       "  </thead>\n",
       "  <tbody>\n",
       "    <tr>\n",
       "      <th>0</th>\n",
       "      <td>China</td>\n",
       "      <td>22</td>\n",
       "      <td>1</td>\n",
       "      <td>Direct</td>\n",
       "      <td>2</td>\n",
       "      <td>0</td>\n",
       "    </tr>\n",
       "    <tr>\n",
       "      <th>1</th>\n",
       "      <td>UK</td>\n",
       "      <td>21</td>\n",
       "      <td>1</td>\n",
       "      <td>Ads</td>\n",
       "      <td>3</td>\n",
       "      <td>0</td>\n",
       "    </tr>\n",
       "    <tr>\n",
       "      <th>2</th>\n",
       "      <td>Germany</td>\n",
       "      <td>20</td>\n",
       "      <td>0</td>\n",
       "      <td>Seo</td>\n",
       "      <td>14</td>\n",
       "      <td>1</td>\n",
       "    </tr>\n",
       "    <tr>\n",
       "      <th>3</th>\n",
       "      <td>US</td>\n",
       "      <td>23</td>\n",
       "      <td>1</td>\n",
       "      <td>Seo</td>\n",
       "      <td>3</td>\n",
       "      <td>0</td>\n",
       "    </tr>\n",
       "    <tr>\n",
       "      <th>4</th>\n",
       "      <td>US</td>\n",
       "      <td>28</td>\n",
       "      <td>1</td>\n",
       "      <td>Direct</td>\n",
       "      <td>3</td>\n",
       "      <td>0</td>\n",
       "    </tr>\n",
       "  </tbody>\n",
       "</table>\n",
       "</div>"
      ],
      "text/plain": [
       "   country  age  new_user  source  total_pages_visited  converted\n",
       "0    China   22         1  Direct                    2          0\n",
       "1       UK   21         1     Ads                    3          0\n",
       "2  Germany   20         0     Seo                   14          1\n",
       "3       US   23         1     Seo                    3          0\n",
       "4       US   28         1  Direct                    3          0"
      ]
     },
     "metadata": {},
     "output_type": "display_data"
    },
    {
     "name": "stdout",
     "output_type": "stream",
     "text": [
      "\n",
      "Basics statistics: \n"
     ]
    },
    {
     "data": {
      "text/html": [
       "<div>\n",
       "<style scoped>\n",
       "    .dataframe tbody tr th:only-of-type {\n",
       "        vertical-align: middle;\n",
       "    }\n",
       "\n",
       "    .dataframe tbody tr th {\n",
       "        vertical-align: top;\n",
       "    }\n",
       "\n",
       "    .dataframe thead th {\n",
       "        text-align: right;\n",
       "    }\n",
       "</style>\n",
       "<table border=\"1\" class=\"dataframe\">\n",
       "  <thead>\n",
       "    <tr style=\"text-align: right;\">\n",
       "      <th></th>\n",
       "      <th>country</th>\n",
       "      <th>age</th>\n",
       "      <th>new_user</th>\n",
       "      <th>source</th>\n",
       "      <th>total_pages_visited</th>\n",
       "      <th>converted</th>\n",
       "    </tr>\n",
       "  </thead>\n",
       "  <tbody>\n",
       "    <tr>\n",
       "      <th>count</th>\n",
       "      <td>284580</td>\n",
       "      <td>284580.000000</td>\n",
       "      <td>284580.000000</td>\n",
       "      <td>284580</td>\n",
       "      <td>284580.000000</td>\n",
       "      <td>284580.000000</td>\n",
       "    </tr>\n",
       "    <tr>\n",
       "      <th>unique</th>\n",
       "      <td>4</td>\n",
       "      <td>NaN</td>\n",
       "      <td>NaN</td>\n",
       "      <td>3</td>\n",
       "      <td>NaN</td>\n",
       "      <td>NaN</td>\n",
       "    </tr>\n",
       "    <tr>\n",
       "      <th>top</th>\n",
       "      <td>US</td>\n",
       "      <td>NaN</td>\n",
       "      <td>NaN</td>\n",
       "      <td>Seo</td>\n",
       "      <td>NaN</td>\n",
       "      <td>NaN</td>\n",
       "    </tr>\n",
       "    <tr>\n",
       "      <th>freq</th>\n",
       "      <td>160124</td>\n",
       "      <td>NaN</td>\n",
       "      <td>NaN</td>\n",
       "      <td>139477</td>\n",
       "      <td>NaN</td>\n",
       "      <td>NaN</td>\n",
       "    </tr>\n",
       "    <tr>\n",
       "      <th>mean</th>\n",
       "      <td>NaN</td>\n",
       "      <td>30.564203</td>\n",
       "      <td>0.685452</td>\n",
       "      <td>NaN</td>\n",
       "      <td>4.873252</td>\n",
       "      <td>0.032258</td>\n",
       "    </tr>\n",
       "    <tr>\n",
       "      <th>std</th>\n",
       "      <td>NaN</td>\n",
       "      <td>8.266789</td>\n",
       "      <td>0.464336</td>\n",
       "      <td>NaN</td>\n",
       "      <td>3.341995</td>\n",
       "      <td>0.176685</td>\n",
       "    </tr>\n",
       "    <tr>\n",
       "      <th>min</th>\n",
       "      <td>NaN</td>\n",
       "      <td>17.000000</td>\n",
       "      <td>0.000000</td>\n",
       "      <td>NaN</td>\n",
       "      <td>1.000000</td>\n",
       "      <td>0.000000</td>\n",
       "    </tr>\n",
       "    <tr>\n",
       "      <th>25%</th>\n",
       "      <td>NaN</td>\n",
       "      <td>24.000000</td>\n",
       "      <td>0.000000</td>\n",
       "      <td>NaN</td>\n",
       "      <td>2.000000</td>\n",
       "      <td>0.000000</td>\n",
       "    </tr>\n",
       "    <tr>\n",
       "      <th>50%</th>\n",
       "      <td>NaN</td>\n",
       "      <td>30.000000</td>\n",
       "      <td>1.000000</td>\n",
       "      <td>NaN</td>\n",
       "      <td>4.000000</td>\n",
       "      <td>0.000000</td>\n",
       "    </tr>\n",
       "    <tr>\n",
       "      <th>75%</th>\n",
       "      <td>NaN</td>\n",
       "      <td>36.000000</td>\n",
       "      <td>1.000000</td>\n",
       "      <td>NaN</td>\n",
       "      <td>7.000000</td>\n",
       "      <td>0.000000</td>\n",
       "    </tr>\n",
       "    <tr>\n",
       "      <th>max</th>\n",
       "      <td>NaN</td>\n",
       "      <td>123.000000</td>\n",
       "      <td>1.000000</td>\n",
       "      <td>NaN</td>\n",
       "      <td>29.000000</td>\n",
       "      <td>1.000000</td>\n",
       "    </tr>\n",
       "  </tbody>\n",
       "</table>\n",
       "</div>"
      ],
      "text/plain": [
       "       country            age       new_user  source  total_pages_visited  \\\n",
       "count   284580  284580.000000  284580.000000  284580        284580.000000   \n",
       "unique       4            NaN            NaN       3                  NaN   \n",
       "top         US            NaN            NaN     Seo                  NaN   \n",
       "freq    160124            NaN            NaN  139477                  NaN   \n",
       "mean       NaN      30.564203       0.685452     NaN             4.873252   \n",
       "std        NaN       8.266789       0.464336     NaN             3.341995   \n",
       "min        NaN      17.000000       0.000000     NaN             1.000000   \n",
       "25%        NaN      24.000000       0.000000     NaN             2.000000   \n",
       "50%        NaN      30.000000       1.000000     NaN             4.000000   \n",
       "75%        NaN      36.000000       1.000000     NaN             7.000000   \n",
       "max        NaN     123.000000       1.000000     NaN            29.000000   \n",
       "\n",
       "            converted  \n",
       "count   284580.000000  \n",
       "unique            NaN  \n",
       "top               NaN  \n",
       "freq              NaN  \n",
       "mean         0.032258  \n",
       "std          0.176685  \n",
       "min          0.000000  \n",
       "25%          0.000000  \n",
       "50%          0.000000  \n",
       "75%          0.000000  \n",
       "max          1.000000  "
      ]
     },
     "metadata": {},
     "output_type": "display_data"
    },
    {
     "name": "stdout",
     "output_type": "stream",
     "text": [
      "\n",
      "Distinct values: \n"
     ]
    },
    {
     "data": {
      "text/plain": [
       "country                 4\n",
       "age                    60\n",
       "new_user                2\n",
       "source                  3\n",
       "total_pages_visited    29\n",
       "converted               2\n",
       "dtype: int64"
      ]
     },
     "metadata": {},
     "output_type": "display_data"
    }
   ],
   "source": [
    "MyFunct.explore(dataset)"
   ]
  },
  {
   "cell_type": "markdown",
   "metadata": {},
   "source": [
    "## Unique Values"
   ]
  },
  {
   "cell_type": "code",
   "execution_count": 4,
   "metadata": {},
   "outputs": [
    {
     "name": "stdout",
     "output_type": "stream",
     "text": [
      "unique values of country:\n"
     ]
    },
    {
     "data": {
      "text/plain": [
       "US         160124\n",
       "China       69122\n",
       "UK          43641\n",
       "Germany     11693\n",
       "Name: country, dtype: int64"
      ]
     },
     "metadata": {},
     "output_type": "display_data"
    },
    {
     "name": "stdout",
     "output_type": "stream",
     "text": [
      "unique values of new_user:\n"
     ]
    },
    {
     "data": {
      "text/plain": [
       "1    195066\n",
       "0     89514\n",
       "Name: new_user, dtype: int64"
      ]
     },
     "metadata": {},
     "output_type": "display_data"
    },
    {
     "name": "stdout",
     "output_type": "stream",
     "text": [
      "unique values of source:\n"
     ]
    },
    {
     "data": {
      "text/plain": [
       "Seo       139477\n",
       "Ads        80027\n",
       "Direct     65076\n",
       "Name: source, dtype: int64"
      ]
     },
     "metadata": {},
     "output_type": "display_data"
    },
    {
     "name": "stdout",
     "output_type": "stream",
     "text": [
      "unique values of converted:\n"
     ]
    },
    {
     "data": {
      "text/plain": [
       "0    275400\n",
       "1      9180\n",
       "Name: converted, dtype: int64"
      ]
     },
     "metadata": {},
     "output_type": "display_data"
    }
   ],
   "source": [
    "Cols = ['country', 'new_user', 'source', 'converted']\n",
    "MyFunct.unique_count(dataset, Cols)"
   ]
  },
  {
   "cell_type": "markdown",
   "metadata": {},
   "source": [
    "## Missing Values"
   ]
  },
  {
   "cell_type": "code",
   "execution_count": 5,
   "metadata": {},
   "outputs": [
    {
     "name": "stdout",
     "output_type": "stream",
     "text": [
      "Missing values: \n",
      "there is no missing values in this dataset\n"
     ]
    }
   ],
   "source": [
    "print(\"Missing values: \")\n",
    "MyFunct.missing(dataset)"
   ]
  },
  {
   "cell_type": "markdown",
   "metadata": {},
   "source": [
    "## Duplicates "
   ]
  },
  {
   "cell_type": "code",
   "execution_count": 6,
   "metadata": {},
   "outputs": [
    {
     "name": "stdout",
     "output_type": "stream",
     "text": [
      "Duplicates: \n"
     ]
    },
    {
     "data": {
      "text/html": [
       "<div>\n",
       "<style scoped>\n",
       "    .dataframe tbody tr th:only-of-type {\n",
       "        vertical-align: middle;\n",
       "    }\n",
       "\n",
       "    .dataframe tbody tr th {\n",
       "        vertical-align: top;\n",
       "    }\n",
       "\n",
       "    .dataframe thead th {\n",
       "        text-align: right;\n",
       "    }\n",
       "</style>\n",
       "<table border=\"1\" class=\"dataframe\">\n",
       "  <thead>\n",
       "    <tr style=\"text-align: right;\">\n",
       "      <th></th>\n",
       "      <th>country</th>\n",
       "      <th>age</th>\n",
       "      <th>new_user</th>\n",
       "      <th>source</th>\n",
       "      <th>total_pages_visited</th>\n",
       "      <th>converted</th>\n",
       "      <th>records</th>\n",
       "    </tr>\n",
       "  </thead>\n",
       "  <tbody>\n",
       "    <tr>\n",
       "      <th>0</th>\n",
       "      <td>China</td>\n",
       "      <td>17</td>\n",
       "      <td>0</td>\n",
       "      <td>Ads</td>\n",
       "      <td>1</td>\n",
       "      <td>0</td>\n",
       "      <td>15</td>\n",
       "    </tr>\n",
       "    <tr>\n",
       "      <th>1</th>\n",
       "      <td>China</td>\n",
       "      <td>17</td>\n",
       "      <td>0</td>\n",
       "      <td>Ads</td>\n",
       "      <td>2</td>\n",
       "      <td>0</td>\n",
       "      <td>19</td>\n",
       "    </tr>\n",
       "    <tr>\n",
       "      <th>2</th>\n",
       "      <td>China</td>\n",
       "      <td>17</td>\n",
       "      <td>0</td>\n",
       "      <td>Ads</td>\n",
       "      <td>3</td>\n",
       "      <td>0</td>\n",
       "      <td>18</td>\n",
       "    </tr>\n",
       "    <tr>\n",
       "      <th>3</th>\n",
       "      <td>China</td>\n",
       "      <td>17</td>\n",
       "      <td>0</td>\n",
       "      <td>Ads</td>\n",
       "      <td>4</td>\n",
       "      <td>0</td>\n",
       "      <td>12</td>\n",
       "    </tr>\n",
       "    <tr>\n",
       "      <th>4</th>\n",
       "      <td>China</td>\n",
       "      <td>17</td>\n",
       "      <td>0</td>\n",
       "      <td>Ads</td>\n",
       "      <td>5</td>\n",
       "      <td>0</td>\n",
       "      <td>18</td>\n",
       "    </tr>\n",
       "    <tr>\n",
       "      <th>...</th>\n",
       "      <td>...</td>\n",
       "      <td>...</td>\n",
       "      <td>...</td>\n",
       "      <td>...</td>\n",
       "      <td>...</td>\n",
       "      <td>...</td>\n",
       "      <td>...</td>\n",
       "    </tr>\n",
       "    <tr>\n",
       "      <th>15806</th>\n",
       "      <td>US</td>\n",
       "      <td>70</td>\n",
       "      <td>1</td>\n",
       "      <td>Ads</td>\n",
       "      <td>9</td>\n",
       "      <td>0</td>\n",
       "      <td>1</td>\n",
       "    </tr>\n",
       "    <tr>\n",
       "      <th>15807</th>\n",
       "      <td>US</td>\n",
       "      <td>72</td>\n",
       "      <td>1</td>\n",
       "      <td>Direct</td>\n",
       "      <td>4</td>\n",
       "      <td>0</td>\n",
       "      <td>1</td>\n",
       "    </tr>\n",
       "    <tr>\n",
       "      <th>15808</th>\n",
       "      <td>US</td>\n",
       "      <td>73</td>\n",
       "      <td>1</td>\n",
       "      <td>Seo</td>\n",
       "      <td>5</td>\n",
       "      <td>0</td>\n",
       "      <td>1</td>\n",
       "    </tr>\n",
       "    <tr>\n",
       "      <th>15809</th>\n",
       "      <td>US</td>\n",
       "      <td>77</td>\n",
       "      <td>0</td>\n",
       "      <td>Direct</td>\n",
       "      <td>4</td>\n",
       "      <td>0</td>\n",
       "      <td>1</td>\n",
       "    </tr>\n",
       "    <tr>\n",
       "      <th>15810</th>\n",
       "      <td>US</td>\n",
       "      <td>79</td>\n",
       "      <td>1</td>\n",
       "      <td>Direct</td>\n",
       "      <td>1</td>\n",
       "      <td>0</td>\n",
       "      <td>1</td>\n",
       "    </tr>\n",
       "  </tbody>\n",
       "</table>\n",
       "<p>15811 rows × 7 columns</p>\n",
       "</div>"
      ],
      "text/plain": [
       "      country  age  new_user  source  total_pages_visited  converted  records\n",
       "0       China   17         0     Ads                    1          0       15\n",
       "1       China   17         0     Ads                    2          0       19\n",
       "2       China   17         0     Ads                    3          0       18\n",
       "3       China   17         0     Ads                    4          0       12\n",
       "4       China   17         0     Ads                    5          0       18\n",
       "...       ...  ...       ...     ...                  ...        ...      ...\n",
       "15806      US   70         1     Ads                    9          0        1\n",
       "15807      US   72         1  Direct                    4          0        1\n",
       "15808      US   73         1     Seo                    5          0        1\n",
       "15809      US   77         0  Direct                    4          0        1\n",
       "15810      US   79         1  Direct                    1          0        1\n",
       "\n",
       "[15811 rows x 7 columns]"
      ]
     },
     "metadata": {},
     "output_type": "display_data"
    }
   ],
   "source": [
    "print(\"Duplicates: \")\n",
    "MyFunct.duplicates_count(dataset)"
   ]
  },
  {
   "cell_type": "markdown",
   "metadata": {},
   "source": [
    "## Sampling"
   ]
  },
  {
   "cell_type": "markdown",
   "metadata": {},
   "source": [
    "> As the dataset is relatively large and to make analysis smoother, we need to take smaller and more manageable sample."
   ]
  },
  {
   "cell_type": "code",
   "execution_count": 7,
   "metadata": {},
   "outputs": [],
   "source": [
    "sample = dataset.sample(n = sample_size, random_state = seed)"
   ]
  },
  {
   "cell_type": "markdown",
   "metadata": {},
   "source": [
    "## Univariate Analysis"
   ]
  },
  {
   "cell_type": "code",
   "execution_count": null,
   "metadata": {},
   "outputs": [],
   "source": [
    "title = 'Distribution of the different quantitative variables'\n",
    "fig = make_subplots(rows=2, cols=2)\n",
    "\n",
    "fig.add_trace(MyFunct.my_box_plotter(sample['age']), row=1, col=1)\n",
    "fig.add_trace(MyFunct.my_box_plotter(sample['total_pages_visited']), row=1, col=2)\n",
    "\n",
    "fig.add_trace(MyFunct.my_hist_plotter(sample['age'], 10), row=2, col=1)\n",
    "fig.add_trace(MyFunct.my_hist_plotter(sample['total_pages_visited'], 5), row=2, col=2)\n",
    "\n",
    "# Update xaxis properties\n",
    "fig.update_xaxes(title_text=\"age\", row=2, col=1)\n",
    "fig.update_xaxes(title_text=\"total pages visited\", row=2, col=2)\n",
    "\n",
    "# Update yaxis properties\n",
    "fig.update_yaxes(title_text=\"Count\", row=2, col=1)\n",
    "\n",
    "fig.update_layout(\n",
    "    title= title, title_x = 0.5,\n",
    "    showlegend=False\n",
    ")\n",
    "\n",
    "fig.to_image(format=\"png\", engine=\"kaleido\")\n",
    "if os.path.exists(viz_path+title+\".png\"):\n",
    "    os.remove(viz_path+title+\".png\")\n",
    "    \n",
    "fig.write_image(viz_path+title+\".png\")\n",
    "\n",
    "fig.show()"
   ]
  },
  {
   "cell_type": "markdown",
   "metadata": {},
   "source": [
    "🗒 **Notes**:  \n",
    "> **age**: 50% of users are aged between 24 and 36 years. Hence it is important to target this category.  \n",
    "\n",
    "> **total_pages_visited**: 50% of users visit between 2 and 7 pages. The total visited pages is too low as there are nearly 30 pages, the newsletter should investigate this fact and try to improve the users experience to encourage them to visit more pages.\n",
    "\n",
    "> **Outliers**: there are outliers in both quantitative variables : age and total_pages_visited but they are not erronous values."
   ]
  },
  {
   "cell_type": "code",
   "execution_count": null,
   "metadata": {},
   "outputs": [],
   "source": [
    "title = 'Distribution of the different qualitative variables'\n",
    "\n",
    "countries = sample.groupby(['country']).size()\n",
    "source = sample.groupby(['source']).size()\n",
    "user = sample.groupby(['new_user']).size()\n",
    "converted = sample.groupby(['converted']).size()\n",
    "\n",
    "fig = make_subplots(rows=2, cols=2)\n",
    "\n",
    "fig.add_trace(MyFunct.my_bar_plotter(countries.index, countries.values, {'text': round((countries.values / 10000)*100,2)}), row=1, col=1)\n",
    "fig.add_trace(MyFunct.my_bar_plotter(source.index, source.values, {'text': round((source.values / 10000)*100,2)}), row=1, col=2)\n",
    "\n",
    "fig.add_trace(MyFunct.my_bar_plotter(user.index, user.values,{'text': round((user.values / 10000)*100,2)} ), row=2, col=1)\n",
    "fig.add_trace(MyFunct.my_bar_plotter(converted.index, converted.values, {'text': round((converted.values / 10000)*100,2)}), row=2, col=2)\n",
    "\n",
    "# Update xaxis properties\n",
    "fig.update_xaxes(title_text=\"Country\", row=1, col=1)\n",
    "fig.update_xaxes(title_text=\"source\", row=1, col=2)\n",
    "fig.update_xaxes(title_text=\"new user\", tickvals = [0, 1], ticktext = ['No', 'Yes'], row=2, col=1)\n",
    "fig.update_xaxes(title_text=\"converted\",tickvals = [0, 1], ticktext = ['No', 'Yes'], row=2, col=2)\n",
    "\n",
    "# Update yaxis properties\n",
    "fig.update_yaxes(title_text=\"Count\", row=1, col=1)\n",
    "fig.update_yaxes(title_text=\"Count\", row=2, col=1)\n",
    "\n",
    "fig.update_layout(\n",
    "    title= title, title_x = 0.5,\n",
    "    showlegend=False\n",
    ")\n",
    "\n",
    "fig.to_image(format=\"png\", engine=\"kaleido\")\n",
    "if os.path.exists(viz_path+title+\".png\"):\n",
    "    os.remove(viz_path+title+\".png\")\n",
    "    \n",
    "fig.write_image(viz_path+title+\".png\")\n",
    "\n",
    "fig.show()"
   ]
  },
  {
   "cell_type": "markdown",
   "metadata": {},
   "source": [
    "🗒 **Notes**:   \n",
    "\n",
    "> **country**: almost 56% of the newsletter users come from US and 24% come from China, while the newsletter doesn't seem to be popular in the UK or Germany. Region based marketing might be helpful to increase the conversion rate.\n",
    "\n",
    "> **source**: almost half of the newsletter users are directed by search engine's results. 28% of the users are coming after seeing some Advertisements while 24% are coming directly. Hence, optimise the newsletter pages visibility in search results may garner attention and attract prospective and existing users alike.\n",
    "\n",
    "> **new_user**: few old users versus new ones. Hence, the newsletter should focus more on improving the users experience on the website in order to incite new users to return.  \n",
    "\n",
    ">  **converted**: the conversion rate is too low (3%). This means that the dataset is highly **imbalanced**"
   ]
  },
  {
   "cell_type": "markdown",
   "metadata": {},
   "source": [
    "## Bivariate Analysis"
   ]
  },
  {
   "cell_type": "code",
   "execution_count": null,
   "metadata": {},
   "outputs": [],
   "source": [
    "title = 'Convertion rate per country'\n",
    "\n",
    "countries = sample.groupby(['country','converted']).size().reset_index(name='count')\n",
    "\n",
    "fig = px.histogram(countries, x=\"country\", y=\"count\", color=\"converted\", barmode='relative', barnorm='percent', text_auto=True)\n",
    "fig.update_traces(texttemplate='%{value:.2f}%')\n",
    "fig.update_yaxes(title = 'Percent')\n",
    "fig.update_layout(title = title,title_x = 0.5, legend_title=\"Converted\")\n",
    "\n",
    "fig.to_image(format=\"png\", engine=\"kaleido\")\n",
    "if os.path.exists(viz_path+title+\".png\"):\n",
    "    os.remove(viz_path+title+\".png\")\n",
    "    \n",
    "fig.write_image(viz_path+title+\".png\")\n",
    "fig.show()"
   ]
  },
  {
   "cell_type": "markdown",
   "metadata": {},
   "source": [
    "🗒 **Notes**:  \n",
    "\n",
    "> The conversion rate in the **US** is almost equal to those in the **UK** or in **Germany**. However, the conversion rate in **China** is near 0%. This last fact should be further investigated. \n",
    "\n",
    "> Finally, as most of the newsletter users come from **US**, the newsletter team must be careful to make sure that they guard their position in this country from competition. "
   ]
  },
  {
   "cell_type": "code",
   "execution_count": null,
   "metadata": {},
   "outputs": [],
   "source": [
    "title = 'Convertion rate per user'\n",
    "\n",
    "users = sample.groupby(['new_user','converted']).size().reset_index(name='count').astype({'new_user': str})\n",
    "\n",
    "fig = px.histogram(users, x=\"new_user\", y=\"count\", color=\"converted\", barmode='relative', barnorm='percent', text_auto=True)\n",
    "\n",
    "fig.update_traces(texttemplate='%{value:.2f}%')\n",
    "fig.update_xaxes(tickvals = [0, 1], ticktext = ['No', 'Yes'])\n",
    "fig.update_yaxes(title = 'Percent')\n",
    "fig.update_layout(title = title,title_x = 0.5, legend_title=\"Converted\")\n",
    "fig.update_coloraxes(showscale=False)\n",
    "\n",
    "fig.to_image(format=\"png\", engine=\"kaleido\")\n",
    "if os.path.exists(viz_path+title+\".png\"):\n",
    "    os.remove(viz_path+title+\".png\")\n",
    "    \n",
    "fig.write_image(viz_path+title+\".png\")\n",
    "fig.show()"
   ]
  },
  {
   "cell_type": "markdown",
   "metadata": {},
   "source": [
    "🗒 **Notes**:  \n",
    "\n",
    "> An old user is more likely to be converted than a new one. Again, this is an appeal to improve the user experience to incite users to return and then to be converted."
   ]
  },
  {
   "cell_type": "code",
   "execution_count": null,
   "metadata": {},
   "outputs": [],
   "source": [
    "title = 'Convertion rate per source'\n",
    "\n",
    "sources = sample.groupby(['source','converted']).size().reset_index(name='count')\n",
    "\n",
    "fig = px.histogram(sources, x=\"source\", y=\"count\", color=\"converted\", barmode='relative', barnorm='percent', text_auto=True)\n",
    "\n",
    "fig.update_traces(texttemplate='%{value:.2f}%')\n",
    "fig.update_yaxes(title = 'Percent')\n",
    "fig.update_layout(title = title,title_x = 0.5, legend_title=\"Converted\")\n",
    "\n",
    "fig.to_image(format=\"png\", engine=\"kaleido\")\n",
    "if os.path.exists(viz_path+title+\".png\"):\n",
    "    os.remove(viz_path+title+\".png\")\n",
    "    \n",
    "fig.write_image(viz_path+title+\".png\")\n",
    "fig.show()"
   ]
  },
  {
   "cell_type": "markdown",
   "metadata": {},
   "source": [
    "🗒 **Notes**:  \n",
    "> conversion rate doesn't seem to be dependent of users' source as all rates are almost equal. Hence, source seems to be a non-significant predictor."
   ]
  },
  {
   "cell_type": "markdown",
   "metadata": {},
   "source": [
    "***********************************************"
   ]
  },
  {
   "cell_type": "markdown",
   "metadata": {},
   "source": [
    "🗒 **Notes**:   \n",
    "\n",
    "> Before analysing the conversion rate wrt the different quantitative variables, **bining** data brought by those continuous variables into multiple buckets is necessary.    \n",
    "       \n",
    "> As we don't have any rule to define the bins within the variables age and total_pages_visited, we will use the pandas function **qcut** that defines equal sized bins using percentiles based on the distribution of the data in order to make sure the distribution of data in the bins is equal."
   ]
  },
  {
   "cell_type": "code",
   "execution_count": null,
   "metadata": {},
   "outputs": [],
   "source": [
    "title = 'Convertion rate per age category'\n",
    "\n",
    "sample_age=sample.copy(deep=True)\n",
    "sample_age['age']= pd.qcut(sample_age['age'],4, labels=['17-24', '25-30', '31-36', '37-69'])\n",
    "age = sample_age.groupby(['age','converted']).size().reset_index(name='count')\n",
    "\n",
    "fig = px.histogram(age, x=\"age\", y=\"count\", color=\"converted\", barmode='relative', barnorm='percent', text_auto=True)\n",
    "\n",
    "fig.update_traces(texttemplate='%{value:.2f}%')\n",
    "fig.update_yaxes(title = 'Percent')\n",
    "fig.update_layout(title = title,title_x = 0.5, legend_title=\"Converted\")\n",
    "\n",
    "fig.to_image(format=\"png\", engine=\"kaleido\")\n",
    "if os.path.exists(viz_path+title+\".png\"):\n",
    "    os.remove(viz_path+title+\".png\")\n",
    "    \n",
    "fig.write_image(viz_path+title+\".png\")\n",
    "fig.show()"
   ]
  },
  {
   "cell_type": "markdown",
   "metadata": {},
   "source": [
    "🗒 **Notes**:   \n",
    "\n",
    "> It is clear that as the user is older as the conversion rate is lower which implicates a negative correlation between age and converted. Hence, the newsletter team should focus on young usuers"
   ]
  },
  {
   "cell_type": "code",
   "execution_count": null,
   "metadata": {},
   "outputs": [],
   "source": [
    "title = 'Convertion rate per total visited pages'\n",
    "\n",
    "sample_pages =sample.copy(deep=True)\n",
    "sample_pages['total_pages_visited']= pd.qcut(sample_pages['total_pages_visited'],4, labels=['1-2', '3-4', '5-7', '8-27'])\n",
    "pages = sample_pages.groupby(['total_pages_visited','converted']).size().reset_index(name='count')\n",
    "pages = pages.astype({'total_pages_visited':'str'})\n",
    "\n",
    "fig = px.histogram(pages, x=\"total_pages_visited\", y=\"count\", color=\"converted\", barmode='relative', barnorm='percent', text_auto=True)\n",
    "\n",
    "fig.update_traces(texttemplate='%{value:.2f}%')\n",
    "fig.update_yaxes(title = 'Percent')\n",
    "fig.update_layout(title = title,title_x = 0.5, legend_title=\"Converted\")\n",
    "\n",
    "fig.to_image(format=\"png\", engine=\"kaleido\")\n",
    "if os.path.exists(viz_path+title+\".png\"):\n",
    "    os.remove(viz_path+title+\".png\")\n",
    "    \n",
    "fig.write_image(viz_path+title+\".png\")\n",
    "fig.show()"
   ]
  },
  {
   "cell_type": "markdown",
   "metadata": {},
   "source": [
    "🗒 **Notes**:     \n",
    "\n",
    "> The conversion rate gets progressively higher whith the number of visited pages. This suggests that if the newsletter is made appealing for users to stay and browse more pages, users may end up converted. This can be confirmed using experimental tests."
   ]
  },
  {
   "cell_type": "markdown",
   "metadata": {},
   "source": [
    "## Correlation"
   ]
  },
  {
   "cell_type": "markdown",
   "metadata": {},
   "source": [
    "🗒 **Notes**:  \n",
    "\n",
    "> To make a prediction tool that is based on multiple predictors, it is important to check if there are some highly correlated predictors as in such a case, the prediction model and the interpretation will be affected."
   ]
  },
  {
   "cell_type": "code",
   "execution_count": null,
   "metadata": {},
   "outputs": [],
   "source": [
    "sample.corr()"
   ]
  },
  {
   "cell_type": "markdown",
   "metadata": {},
   "source": [
    "🗒 **Notes**:     \n",
    "> There is no important correlation between predictors\n",
    "\n",
    "> we can notice some correlation between the total visited pages and the conversion of a user, we should check if this correlation is higher in the original dataset"
   ]
  },
  {
   "cell_type": "code",
   "execution_count": null,
   "metadata": {},
   "outputs": [],
   "source": [
    "title = 'Correlation degrees between different variables'\n",
    "MyFunct.my_heatmap(dataset, title)"
   ]
  },
  {
   "cell_type": "markdown",
   "metadata": {},
   "source": [
    "🗒 **Notes**:  \n",
    "\n",
    "> Same relationship between the total visited pages and the conversion of a user is noticied in the original dataset, hence, the total visited pages may be a good predictor in the conversion prediction."
   ]
  },
  {
   "cell_type": "markdown",
   "metadata": {},
   "source": [
    "# Key Insights"
   ]
  },
  {
   "cell_type": "markdown",
   "metadata": {},
   "source": [
    "> 1) The newsletter team should focus more on the design and the content of the website pages in order to make the pages more appealing and user friendly as there is a strong correlation between the total visited pages and the conversion rate.\n",
    "\n",
    "> 2) As the old users have a higher conversion rate than new ones, it is important to give special care to new visitors in order to encourage them to return and then to be converted by offering special deals."
   ]
  }
 ],
 "metadata": {
  "colab": {
   "collapsed_sections": [],
   "name": "Projets_template.ipynb",
   "provenance": []
  },
  "kernelspec": {
   "display_name": "Python 3 (ipykernel)",
   "language": "python",
   "name": "python3"
  },
  "language_info": {
   "codemirror_mode": {
    "name": "ipython",
    "version": 3
   },
   "file_extension": ".py",
   "mimetype": "text/x-python",
   "name": "python",
   "nbconvert_exporter": "python",
   "pygments_lexer": "ipython3",
   "version": "3.9.7"
  }
 },
 "nbformat": 4,
 "nbformat_minor": 4
}
