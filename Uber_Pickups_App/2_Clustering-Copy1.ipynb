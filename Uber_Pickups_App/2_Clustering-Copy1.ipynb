{
 "cells": [
  {
   "cell_type": "markdown",
   "id": "5e5c733c-5115-43b6-9cfd-f72b354b8e4f",
   "metadata": {
    "tags": []
   },
   "source": [
    "# UBER Pickups \n",
    "--------\n",
    "In this second part of this project, we want to:\n",
    "\n",
    "> implement **DBSCAN** technique  \n",
    "\n",
    "> **Visualize** hot-zones for drivers using **maps**\n",
    "\n",
    "Some ideas in this part of the project was inspired by **[Geoff Boeing](http://geoffboeing.com/2014/08/clustering-to-reduce-spatial-data-set-size/)** article about dealing with spatial data.\n",
    "\n",
    "--------"
   ]
  },
  {
   "cell_type": "markdown",
   "id": "1950229b-0fc5-43e3-bbff-5748e58137c9",
   "metadata": {},
   "source": [
    "### Table of Contents\n",
    "\n",
    "* [1. Clustering: DBSCAN](#section1)\n",
    "    * [1.1. DBSCAN parameters](#section21)\n",
    "    * [1.2. Useful functions](#section21)\n",
    "    * [1.3. Load data](#section22)\n",
    "    * [1.4. Driver Query](#section22)\n",
    "        * [1.4.1. Find the hot zones](#section22)\n",
    "        * [1.4.2. Visualize recommendations](#section22)\n",
    "* [2. Further improvements](#section2)"
   ]
  },
  {
   "cell_type": "markdown",
   "id": "62702638-4952-4e41-aaec-006011efd711",
   "metadata": {},
   "source": [
    " #### Import useful modules ⬇️⬇️ and Global params"
   ]
  },
  {
   "cell_type": "code",
   "execution_count": 1,
   "id": "5bd89924-1e24-4a77-8ef6-33de43fccb27",
   "metadata": {
    "_cell_guid": "1f1b568c-1d61-497e-86c5-0e05ebe613c8",
    "_uuid": "a8f56f8486b67114f52e81718eb8c4ac7ef6eebc"
   },
   "outputs": [],
   "source": [
    "# generic libs\n",
    "import pandas as pd\n",
    "import numpy as np\n",
    "\n",
    "# ML libs\n",
    "from sklearn.cluster import DBSCAN\n",
    "\n",
    "# geometry libs\n",
    "from shapely.geometry import MultiPoint\n",
    "from geopy.distance import great_circle\n",
    "from geopy.geocoders import Nominatim\n",
    "geolocator = Nominatim(user_agent=\"geoapiExercises\")\n",
    "\n",
    "# plot libs\n",
    "import plotly.express as px\n",
    "import plotly.io as pio\n",
    "pio.renderers.default = \"iframe_connected\"\n",
    "\n",
    "# global params\n",
    "file_path = \"data/pre_aug14.csv\""
   ]
  },
  {
   "cell_type": "markdown",
   "id": "197b9d99-5a70-411f-a1b8-9d5de6d237c9",
   "metadata": {},
   "source": [
    " # Clustering : DBSCAN "
   ]
  },
  {
   "cell_type": "markdown",
   "id": "ee77601b-640c-47da-8c22-58f16ccc96a8",
   "metadata": {},
   "source": [
    " ## DBSCAN parameters  "
   ]
  },
  {
   "cell_type": "markdown",
   "id": "5d87366d-5f0e-4f28-8d31-4a132be19ebd",
   "metadata": {},
   "source": [
    "> We will try to restate the required DBSCAN parameters for a better understanding by drivers when using the application. \n",
    ">> **Eps/Epsilon/Radius (km)**  the maximum distance between two pickups to be in the same hot-zone.  \n",
    "\n",
    ">> **min_samples**  the minimum number of pickups per zone to be considered as hot.     \n",
    "\n",
    ">> **Metric : haversine**   \n",
    "As we are dealing with spatial locations, the most suitable distance metric is the haversine distance. It determines the **great-circle** distance between two points on a **sphere** (the earth in our case) given their longitudes and latitudes.   \n",
    "The **great-circle** distance is the shortest distance between two points on the surface of a sphere."
   ]
  },
  {
   "cell_type": "markdown",
   "id": "c059a975-4b02-4e28-9f61-ca023543ba79",
   "metadata": {},
   "source": [
    " ## Useful functions"
   ]
  },
  {
   "cell_type": "markdown",
   "id": "5f783967-87a2-4e62-8096-ba1b7629d7ef",
   "metadata": {},
   "source": [
    "> Recall that we will use the **haversine** distance as a metric for the DBSCAN algorithm. Hence, before applying the algorithm, we must convert the coordinates and the maximum distance between pickups (eps) to **radians**. \n",
    "\n",
    "> Given the predefined **_maximum distance_** and the **_minimum pickups_**, the function **get_clusters** runs the DBSCAN algorithm to the pickups data and return **_annotated pickups_** with their equivalent **_clusters_** and the **_number of clusters_** (number of hot zones)."
   ]
  },
  {
   "cell_type": "code",
   "execution_count": 2,
   "id": "ab35b36a-c84d-4971-a1cf-12c29c22af2e",
   "metadata": {
    "_cell_guid": "54fb8d5e-b1a1-4610-b9d8-c235d8fb420d",
    "_uuid": "ae5263d3857fa43e8e71b046204efce7c9a120bf"
   },
   "outputs": [],
   "source": [
    "def get_clusters(max_distance,min_pickups,pickups):\n",
    "    \n",
    "    ## get pickups coordinates from available data\n",
    "    coords = pickups[['Lat', 'Lon']].to_numpy()\n",
    "        \n",
    "    # convert distances from kilometers to radians, as measured along a great circle on a sphere \n",
    "    # with a radius of 6371 km, the mean radius of the Earth.\n",
    "    kms_per_radian = 6371.0088\n",
    "    \n",
    "    # convert coordinates and epsilon to radians\n",
    "    epsilon = max_distance / kms_per_radian\n",
    "    coords_rad = np.radians(coords)\n",
    "    \n",
    "    ##  DBSCAN clustering\n",
    "    db = DBSCAN(eps=epsilon, min_samples=min_pickups, metric='haversine')\n",
    "    db.fit(coords_rad)\n",
    "    \n",
    "    ## count the clusters\n",
    "    cluster_labels = db.labels_\n",
    "    n_clusters = len(set(cluster_labels))\n",
    "    print('Number of clusters: {}'.format(n_clusters))\n",
    "    \n",
    "    # annotate the pickups with their equivalent clusters\n",
    "    annotated_pickups = np.insert(coords, 2, cluster_labels, axis = 1)\n",
    "   \n",
    "    return annotated_pickups, n_clusters"
   ]
  },
  {
   "cell_type": "markdown",
   "id": "91e1c8ed-de5c-429d-8f94-f9c98a5a4ecd",
   "metadata": {},
   "source": [
    "> **Generate understandable recommendations**: DBSCAN does not define centroids like K-means. Hence, the visualization of the hot spots with all the pickups locations in those zones will be a mess for drivers and hard to be understood. To solve this issue, we can compute the **centroid** of each cluster and only visualize centroids in the recommendation. In this way, the recommendation will be more intelligible and not too cluttered.\n",
    "\n",
    ">> The problem is that the centroid of a collection of points might be one of its points or a point that does not exist in the collection. Hence, instead of computing the **centroid** of a cluster, we want to find the point in the cluster **nearest** that centroid. We will call such point the **center-most** point.\n",
    "\n",
    ">> To do so, we will use 2 geometry libraries: The **shapely** library, more precisely, the class **MultiPoint** that allows us to implement a collection of points (cluster of locations) and the **geopy** library and its **great-circle** distance."
   ]
  },
  {
   "cell_type": "code",
   "execution_count": 3,
   "id": "b93c0c73-54a2-4eea-846b-3419f73ff51d",
   "metadata": {},
   "outputs": [],
   "source": [
    "def get_centermost_point(cluster):\n",
    "    # centroid : tuple (latitude, longitude)\n",
    "    centroid = (MultiPoint(cluster).centroid.x, MultiPoint(cluster).centroid.y)\n",
    "    # centermost : one point in the cluster that gives the shortest distance to the centroid in meters(m)\n",
    "    centermost_point = min(cluster, key=lambda point: great_circle(point, centroid).m)\n",
    "\n",
    "    return tuple(centermost_point)"
   ]
  },
  {
   "cell_type": "markdown",
   "id": "18e54533-4776-4c3c-8f37-abfd38f5fae8",
   "metadata": {},
   "source": [
    "> Given the **_annotated pickups_** and the **_number of clusters_** got by the function **get_clusters**, the function **get_centermost_points** computes the **_centermost_** locations of each hot-spot and its **_size_** (the number of pickups). These 2 values will help us to generate understandable recommendations. We exclude the outliers cluster."
   ]
  },
  {
   "cell_type": "code",
   "execution_count": 4,
   "id": "16bfdf85-65cb-49a2-b645-8c7e3165a0d5",
   "metadata": {
    "_cell_guid": "54fb8d5e-b1a1-4610-b9d8-c235d8fb420d",
    "_uuid": "ae5263d3857fa43e8e71b046204efce7c9a120bf"
   },
   "outputs": [],
   "source": [
    "def get_centermost_points(annotated_pickups, n_clusters):\n",
    "    # return centermost coordinates (lat, lon) and the clusters' sizes\n",
    "    # annotated_pickups [lat, lon, cluster] : np array\n",
    "    \n",
    "    # initialize lists for centermost_point and size\n",
    "    lats = []\n",
    "    lons = []\n",
    "    sizes = []\n",
    "    \n",
    "    # grouping clusters (without considering the noise cluster)\n",
    "    for c in range(n_clusters-1):\n",
    "        # get all pickups in the cluster \"c\"\n",
    "        mask = (annotated_pickups[:, 2] == c)\n",
    "        cluster = annotated_pickups[mask, :][:,0:2]\n",
    "        \n",
    "        # filter empty clusters\n",
    "        if cluster.any():\n",
    "            centermost =  get_centermost_point(cluster)\n",
    "            lats.append(centermost[0]) \n",
    "            lons.append(centermost[1])\n",
    "            sizes.append(len(cluster))\n",
    "            \n",
    "    # make the computed data in a df     \n",
    "    centermosts = [lats,lons,sizes]\n",
    "    df_centermosts =  pd.DataFrame({'lat':lats, 'lon':lons, 'size':sizes})\n",
    "    \n",
    "    return df_centermosts"
   ]
  },
  {
   "cell_type": "markdown",
   "id": "3c9aaf3f-4ba7-45b1-8417-66489706276b",
   "metadata": {},
   "source": [
    "> The last function **_get_location_info_** is used to get information about a location given its gps coordinates (latitude & longitude). To do so, we will use **_Nominatim_** class of the geocoding library **_geopy_**."
   ]
  },
  {
   "cell_type": "code",
   "execution_count": 5,
   "id": "07d81044-0718-4a54-b982-23d9af52060c",
   "metadata": {},
   "outputs": [],
   "source": [
    "def get_location_info(latitude, longitude):\n",
    "    location = str( geolocator.reverse(str(latitude)+\",\"+str(longitude)))\n",
    "    return location"
   ]
  },
  {
   "cell_type": "markdown",
   "id": "3b898eb6-a475-4fb0-8192-3bf905db003b",
   "metadata": {},
   "source": [
    " ## Load data"
   ]
  },
  {
   "cell_type": "code",
   "execution_count": 6,
   "id": "7cb4e8ae-cf33-4ca6-969b-093ded535bf4",
   "metadata": {},
   "outputs": [
    {
     "data": {
      "text/html": [
       "<div>\n",
       "<style scoped>\n",
       "    .dataframe tbody tr th:only-of-type {\n",
       "        vertical-align: middle;\n",
       "    }\n",
       "\n",
       "    .dataframe tbody tr th {\n",
       "        vertical-align: top;\n",
       "    }\n",
       "\n",
       "    .dataframe thead th {\n",
       "        text-align: right;\n",
       "    }\n",
       "</style>\n",
       "<table border=\"1\" class=\"dataframe\">\n",
       "  <thead>\n",
       "    <tr style=\"text-align: right;\">\n",
       "      <th></th>\n",
       "      <th>date</th>\n",
       "      <th>Lat</th>\n",
       "      <th>Lon</th>\n",
       "      <th>weekday</th>\n",
       "      <th>hour</th>\n",
       "    </tr>\n",
       "  </thead>\n",
       "  <tbody>\n",
       "    <tr>\n",
       "      <th>0</th>\n",
       "      <td>2014-08-01 00:03:00</td>\n",
       "      <td>40.7366</td>\n",
       "      <td>-73.9906</td>\n",
       "      <td>4</td>\n",
       "      <td>0</td>\n",
       "    </tr>\n",
       "    <tr>\n",
       "      <th>1</th>\n",
       "      <td>2014-08-01 00:09:00</td>\n",
       "      <td>40.7260</td>\n",
       "      <td>-73.9918</td>\n",
       "      <td>4</td>\n",
       "      <td>0</td>\n",
       "    </tr>\n",
       "    <tr>\n",
       "      <th>2</th>\n",
       "      <td>2014-08-01 00:12:00</td>\n",
       "      <td>40.7209</td>\n",
       "      <td>-74.0507</td>\n",
       "      <td>4</td>\n",
       "      <td>0</td>\n",
       "    </tr>\n",
       "    <tr>\n",
       "      <th>3</th>\n",
       "      <td>2014-08-01 00:12:00</td>\n",
       "      <td>40.7387</td>\n",
       "      <td>-73.9856</td>\n",
       "      <td>4</td>\n",
       "      <td>0</td>\n",
       "    </tr>\n",
       "    <tr>\n",
       "      <th>4</th>\n",
       "      <td>2014-08-01 00:12:00</td>\n",
       "      <td>40.7323</td>\n",
       "      <td>-74.0077</td>\n",
       "      <td>4</td>\n",
       "      <td>0</td>\n",
       "    </tr>\n",
       "  </tbody>\n",
       "</table>\n",
       "</div>"
      ],
      "text/plain": [
       "                  date      Lat      Lon  weekday  hour\n",
       "0  2014-08-01 00:03:00  40.7366 -73.9906        4     0\n",
       "1  2014-08-01 00:09:00  40.7260 -73.9918        4     0\n",
       "2  2014-08-01 00:12:00  40.7209 -74.0507        4     0\n",
       "3  2014-08-01 00:12:00  40.7387 -73.9856        4     0\n",
       "4  2014-08-01 00:12:00  40.7323 -74.0077        4     0"
      ]
     },
     "execution_count": 6,
     "metadata": {},
     "output_type": "execute_result"
    }
   ],
   "source": [
    "pickups = pd.read_csv(file_path)\n",
    "pickups.head()"
   ]
  },
  {
   "cell_type": "markdown",
   "id": "f1350919-27ab-4529-bdff-77442f53a339",
   "metadata": {},
   "source": [
    " ## Driver Query"
   ]
  },
  {
   "cell_type": "markdown",
   "id": "dfe52fe7-1fa8-4159-a11e-1a0852c23c16",
   "metadata": {
    "_cell_guid": "8e28bd58-e33a-4c8b-b128-29e599ff06ab",
    "_uuid": "3c9d3d2b5a6e239765f56019e535723a77d284c8"
   },
   "source": [
    "> To illustrate the functioning of the proposed implementation we will take an example of a driver query:  \n",
    ">> Where are the locations which experience more than 25 pickups that are within 50 meters of each other between 4 pm and 6 pm on Thursday ? \n",
    ">>> 1) **Run** DBSCAN using the query elements to find the hot zones. \n",
    "\n",
    ">>> 2) **Visualize** the hot-zones (only the centermost locations) using a map to make understandable recommendations for the driver."
   ]
  },
  {
   "cell_type": "markdown",
   "id": "125913f8-c42d-4d8a-b0ee-8cc3ff20ff7e",
   "metadata": {},
   "source": [
    " ### Find the hot zones"
   ]
  },
  {
   "cell_type": "code",
   "execution_count": 7,
   "id": "a02248d2-fbe7-4878-9e86-1971e5bb4043",
   "metadata": {
    "_cell_guid": "36839d06-ca6f-40fc-a965-d77950621b03",
    "_uuid": "d4817ae833cec849bffeaa8c794d0bb6d1041747"
   },
   "outputs": [
    {
     "name": "stdout",
     "output_type": "stream",
     "text": [
      "Number of clusters: 8\n"
     ]
    },
    {
     "data": {
      "text/html": [
       "<div>\n",
       "<style scoped>\n",
       "    .dataframe tbody tr th:only-of-type {\n",
       "        vertical-align: middle;\n",
       "    }\n",
       "\n",
       "    .dataframe tbody tr th {\n",
       "        vertical-align: top;\n",
       "    }\n",
       "\n",
       "    .dataframe thead th {\n",
       "        text-align: right;\n",
       "    }\n",
       "</style>\n",
       "<table border=\"1\" class=\"dataframe\">\n",
       "  <thead>\n",
       "    <tr style=\"text-align: right;\">\n",
       "      <th></th>\n",
       "      <th>lat</th>\n",
       "      <th>lon</th>\n",
       "      <th>size</th>\n",
       "      <th>location_info</th>\n",
       "    </tr>\n",
       "  </thead>\n",
       "  <tbody>\n",
       "    <tr>\n",
       "      <th>0</th>\n",
       "      <td>40.6460</td>\n",
       "      <td>-73.7767</td>\n",
       "      <td>78</td>\n",
       "      <td>John F. Kennedy International Airport, JFK Acc...</td>\n",
       "    </tr>\n",
       "    <tr>\n",
       "      <th>1</th>\n",
       "      <td>40.6465</td>\n",
       "      <td>-73.7898</td>\n",
       "      <td>34</td>\n",
       "      <td>JFK Terminal 8, Terminal 8 Parking, Queens, Qu...</td>\n",
       "    </tr>\n",
       "    <tr>\n",
       "      <th>2</th>\n",
       "      <td>40.6448</td>\n",
       "      <td>-73.7820</td>\n",
       "      <td>168</td>\n",
       "      <td>John F. Kennedy International Airport, JFK Acc...</td>\n",
       "    </tr>\n",
       "    <tr>\n",
       "      <th>3</th>\n",
       "      <td>40.6950</td>\n",
       "      <td>-74.1780</td>\n",
       "      <td>42</td>\n",
       "      <td>Newark Liberty International Airport, US 1-9 L...</td>\n",
       "    </tr>\n",
       "    <tr>\n",
       "      <th>4</th>\n",
       "      <td>40.7387</td>\n",
       "      <td>-74.0088</td>\n",
       "      <td>39</td>\n",
       "      <td>108, Horatio Street, Manhattan Community Board...</td>\n",
       "    </tr>\n",
       "    <tr>\n",
       "      <th>5</th>\n",
       "      <td>40.6484</td>\n",
       "      <td>-73.7828</td>\n",
       "      <td>31</td>\n",
       "      <td>Departures Parking Connector, Queens, Queens C...</td>\n",
       "    </tr>\n",
       "    <tr>\n",
       "      <th>6</th>\n",
       "      <td>40.7111</td>\n",
       "      <td>-74.0057</td>\n",
       "      <td>27</td>\n",
       "      <td>8 Spruce Street, 8, Spruce Street, Manhattan C...</td>\n",
       "    </tr>\n",
       "  </tbody>\n",
       "</table>\n",
       "</div>"
      ],
      "text/plain": [
       "       lat      lon  size                                      location_info\n",
       "0  40.6460 -73.7767    78  John F. Kennedy International Airport, JFK Acc...\n",
       "1  40.6465 -73.7898    34  JFK Terminal 8, Terminal 8 Parking, Queens, Qu...\n",
       "2  40.6448 -73.7820   168  John F. Kennedy International Airport, JFK Acc...\n",
       "3  40.6950 -74.1780    42  Newark Liberty International Airport, US 1-9 L...\n",
       "4  40.7387 -74.0088    39  108, Horatio Street, Manhattan Community Board...\n",
       "5  40.6484 -73.7828    31  Departures Parking Connector, Queens, Queens C...\n",
       "6  40.7111 -74.0057    27  8 Spruce Street, 8, Spruce Street, Manhattan C..."
      ]
     },
     "execution_count": 7,
     "metadata": {},
     "output_type": "execute_result"
    }
   ],
   "source": [
    "# Query params\n",
    "'''\n",
    "day = Thursday (3)\n",
    "hour = between 4 and 6 pm\n",
    "max_distance = 50 m = 0.05 km (eps: maximum distance between two cluster members in kilometers)\n",
    "min_pickups = 25 (min_smaples: minimum number of cluster members)\n",
    "'''\n",
    "\n",
    "# get pickups data given the driver query\n",
    "mask = (pickups['weekday']== 3) & (pickups['hour'] >= 4) & (pickups['hour'] <= 6)\n",
    "df = pickups[mask].reset_index()\n",
    "\n",
    "# Clustering params\n",
    "max_distance = 0.05\n",
    "min_pickups = 25\n",
    "\n",
    "# get hot zones\n",
    "annotated_pickups, n_clusters= get_clusters(max_distance ,min_pickups, df)\n",
    "\n",
    "# get zones centermost locations & the number of pickups in each zone (size)\n",
    "df_centermosts = get_centermost_points(annotated_pickups, n_clusters)\n",
    "df_centermosts['location_info'] = df_centermosts.apply(lambda row: get_location_info(row.lat, row.lon), axis = 1)\n",
    "df_centermosts"
   ]
  },
  {
   "cell_type": "markdown",
   "id": "9db6ef58-640c-42b0-ba38-7067ed1a9332",
   "metadata": {},
   "source": [
    " ### Visualize recommendations"
   ]
  },
  {
   "cell_type": "markdown",
   "id": "81ebca98-9ee4-42db-a879-35ea752d95a9",
   "metadata": {},
   "source": [
    "> We will use the **_size_** value to emphasize the most condensed locations during a predefined time frame. This way, recommendations will be more informative and easier to be understood."
   ]
  },
  {
   "cell_type": "code",
   "execution_count": null,
   "id": "d29dabb5-ec18-4bfd-b273-7c3b9f5934af",
   "metadata": {},
   "outputs": [],
   "source": [
    "fig = px.scatter_mapbox(\n",
    "    df_centermosts, \n",
    "    lat= \"lat\", \n",
    "    lon = \"lon\", \n",
    "    size = 'size',\n",
    "    color = 'size',\n",
    "    text = 'location_info',\n",
    "    mapbox_style = \"carto-positron\",\n",
    "    zoom = 10,\n",
    "    title = 'Hot Spots for Thursday between 4 pm and 6 pm',\n",
    "    width = 1500, height = 600  \n",
    ")\n",
    "\n",
    "fig.show()"
   ]
  },
  {
   "cell_type": "markdown",
   "id": "63fa25e1-1939-40fe-8f30-ebb4118a2fa9",
   "metadata": {},
   "source": [
    " # Application"
   ]
  },
  {
   "cell_type": "markdown",
   "id": "fd92da5c-c5ee-407a-ac35-4365abbc0282",
   "metadata": {},
   "source": [
    "> We have implemented the proposed solution in a user-friendly application that is more manageable by drivers using **_Dash, HTML_** and **_CSS_**. You find the implementation in the file **_app.py_**."
   ]
  },
  {
   "cell_type": "markdown",
   "id": "9465c923-1625-4d33-8983-5759b136d08a",
   "metadata": {},
   "source": [
    "<img src=\"img/driver_query.png\">"
   ]
  },
  {
   "cell_type": "markdown",
   "id": "a76756df-018f-45da-9a4c-00394265d75e",
   "metadata": {},
   "source": [
    "![image](img/map.png)"
   ]
  },
  {
   "cell_type": "markdown",
   "id": "c7bc0e17-1426-4ca5-9f43-59d091a68a86",
   "metadata": {},
   "source": [
    " # Further improvements"
   ]
  },
  {
   "cell_type": "markdown",
   "id": "89479385-8494-4877-b359-cd4dab7e98bb",
   "metadata": {},
   "source": [
    "> A further improvement that can be made is to get automatically the location of the driver and recommend the **_K_** nearest hot zones in order to alleviate the decision phase and help drivers make optimal decisions. (**TO BE DONE !!!**)"
   ]
  }
 ],
 "metadata": {
  "kernelspec": {
   "display_name": "Python 3 (ipykernel)",
   "language": "python",
   "name": "python3"
  },
  "language_info": {
   "codemirror_mode": {
    "name": "ipython",
    "version": 3
   },
   "file_extension": ".py",
   "mimetype": "text/x-python",
   "name": "python",
   "nbconvert_exporter": "python",
   "pygments_lexer": "ipython3",
   "version": "3.9.7"
  }
 },
 "nbformat": 4,
 "nbformat_minor": 5
}
