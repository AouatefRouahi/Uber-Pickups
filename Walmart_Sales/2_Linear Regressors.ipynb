{
 "cells": [
  {
   "cell_type": "markdown",
   "metadata": {},
   "source": [
    "# Walmart Sales Prediction\n",
    "-----\n",
    ">In this second phase of the project, we will try to:  \n",
    "\n",
    ">> find out which model best suits this prediction problem   \n",
    ">> understand which predictors might have high impact on the prediction outputs\n",
    "\n",
    "------"
   ]
  },
  {
   "cell_type": "markdown",
   "metadata": {},
   "source": [
    "### Table of Contents\n",
    "\n",
    "* [1. Load Data](#section1)\n",
    "* [2. Linear Regression Models](#section2)\n",
    "    * [2.1. Data Preparing for Modeling](#section21)\n",
    "    * [2.2. Dummy Regressor](#section22)\n",
    "    * [2.3. Linear Regressor](#section23)\n",
    "    * [2.4. Ridge Regressor](#section24)\n",
    "    * [2.5. Lasso Regressor](#section25)\n",
    "    * [2.6. Features Importance](#section26)\n",
    "* [3. Summary](#section3)"
   ]
  },
  {
   "cell_type": "code",
   "execution_count": 1,
   "metadata": {},
   "outputs": [],
   "source": [
    "import warnings\n",
    "warnings.filterwarnings('ignore')\n",
    "\n",
    "# Generic librairies \n",
    "import pandas as pd\n",
    "pd.options.display.max_columns=None\n",
    "\n",
    "import numpy as np\n",
    "\n",
    "# Visualization librairies \n",
    "import plotly.express as px\n",
    "import plotly.io as pio\n",
    "pio.renderers.default = \"iframe\" \n",
    "\n",
    "\n",
    "# Machine learning librairies\n",
    "# split\n",
    "from sklearn.model_selection import train_test_split\n",
    "\n",
    "# Preprocessing\n",
    "from sklearn.pipeline import Pipeline\n",
    "from sklearn.impute import SimpleImputer\n",
    "from sklearn.preprocessing import  OneHotEncoder, StandardScaler\n",
    "from sklearn.compose import ColumnTransformer\n",
    "\n",
    "# Regressors\n",
    "from sklearn.dummy import DummyRegressor\n",
    "from sklearn.linear_model import LinearRegression, Ridge, Lasso\n",
    "\n",
    "# score metrics\n",
    "from sklearn.metrics import r2_score, mean_squared_error, mean_absolute_error\n",
    "\n",
    "# model selection\n",
    "from sklearn.model_selection import cross_val_score, GridSearchCV\n",
    "\n",
    "# predefined modules\n",
    "from modules import MyFunctions as MyFunct\n",
    "\n",
    "# Global parameters \n",
    "filepath = 'data/prep_walmart_sales.csv'\n",
    "results_path='results/'"
   ]
  },
  {
   "cell_type": "markdown",
   "metadata": {},
   "source": [
    " ## Load data"
   ]
  },
  {
   "cell_type": "code",
   "execution_count": 2,
   "metadata": {
    "tags": []
   },
   "outputs": [
    {
     "name": "stdout",
     "output_type": "stream",
     "text": [
      "Loading dataset...\n",
      "...Done.\n",
      "\n"
     ]
    }
   ],
   "source": [
    "print(\"Loading dataset...\")\n",
    "dataset = pd.read_csv(filepath)\n",
    "print(\"...Done.\")\n",
    "print()"
   ]
  },
  {
   "cell_type": "code",
   "execution_count": 3,
   "metadata": {},
   "outputs": [
    {
     "name": "stdout",
     "output_type": "stream",
     "text": [
      "Shape : (6297, 8)\n",
      "\n",
      "data types : \n",
      "Store           float64\n",
      "Weekly_Sales    float64\n",
      "Holiday_Flag    float64\n",
      "Temperature     float64\n",
      "Fuel_Price      float64\n",
      "CPI             float64\n",
      "Unemployment    float64\n",
      "Week            float64\n",
      "dtype: object\n",
      "\n",
      "Display of dataset: \n"
     ]
    },
    {
     "data": {
      "text/html": [
       "<div>\n",
       "<style scoped>\n",
       "    .dataframe tbody tr th:only-of-type {\n",
       "        vertical-align: middle;\n",
       "    }\n",
       "\n",
       "    .dataframe tbody tr th {\n",
       "        vertical-align: top;\n",
       "    }\n",
       "\n",
       "    .dataframe thead th {\n",
       "        text-align: right;\n",
       "    }\n",
       "</style>\n",
       "<table border=\"1\" class=\"dataframe\">\n",
       "  <thead>\n",
       "    <tr style=\"text-align: right;\">\n",
       "      <th></th>\n",
       "      <th>Store</th>\n",
       "      <th>Weekly_Sales</th>\n",
       "      <th>Holiday_Flag</th>\n",
       "      <th>Temperature</th>\n",
       "      <th>Fuel_Price</th>\n",
       "      <th>CPI</th>\n",
       "      <th>Unemployment</th>\n",
       "      <th>Week</th>\n",
       "    </tr>\n",
       "  </thead>\n",
       "  <tbody>\n",
       "    <tr>\n",
       "      <th>0</th>\n",
       "      <td>1.0</td>\n",
       "      <td>1643690.90</td>\n",
       "      <td>0.0</td>\n",
       "      <td>42.31</td>\n",
       "      <td>2.572</td>\n",
       "      <td>211.096358</td>\n",
       "      <td>8.106</td>\n",
       "      <td>5.0</td>\n",
       "    </tr>\n",
       "    <tr>\n",
       "      <th>1</th>\n",
       "      <td>1.0</td>\n",
       "      <td>1641957.44</td>\n",
       "      <td>1.0</td>\n",
       "      <td>38.51</td>\n",
       "      <td>2.548</td>\n",
       "      <td>211.242170</td>\n",
       "      <td>8.106</td>\n",
       "      <td>6.0</td>\n",
       "    </tr>\n",
       "    <tr>\n",
       "      <th>2</th>\n",
       "      <td>1.0</td>\n",
       "      <td>1611968.17</td>\n",
       "      <td>0.0</td>\n",
       "      <td>39.93</td>\n",
       "      <td>2.514</td>\n",
       "      <td>211.289143</td>\n",
       "      <td>8.106</td>\n",
       "      <td>7.0</td>\n",
       "    </tr>\n",
       "    <tr>\n",
       "      <th>3</th>\n",
       "      <td>1.0</td>\n",
       "      <td>1409727.59</td>\n",
       "      <td>0.0</td>\n",
       "      <td>46.63</td>\n",
       "      <td>2.561</td>\n",
       "      <td>211.319643</td>\n",
       "      <td>8.106</td>\n",
       "      <td>8.0</td>\n",
       "    </tr>\n",
       "    <tr>\n",
       "      <th>4</th>\n",
       "      <td>1.0</td>\n",
       "      <td>1554806.68</td>\n",
       "      <td>0.0</td>\n",
       "      <td>46.50</td>\n",
       "      <td>2.625</td>\n",
       "      <td>211.350143</td>\n",
       "      <td>8.106</td>\n",
       "      <td>9.0</td>\n",
       "    </tr>\n",
       "  </tbody>\n",
       "</table>\n",
       "</div>"
      ],
      "text/plain": [
       "   Store  Weekly_Sales  Holiday_Flag  Temperature  Fuel_Price         CPI  \\\n",
       "0    1.0    1643690.90           0.0        42.31       2.572  211.096358   \n",
       "1    1.0    1641957.44           1.0        38.51       2.548  211.242170   \n",
       "2    1.0    1611968.17           0.0        39.93       2.514  211.289143   \n",
       "3    1.0    1409727.59           0.0        46.63       2.561  211.319643   \n",
       "4    1.0    1554806.68           0.0        46.50       2.625  211.350143   \n",
       "\n",
       "   Unemployment  Week  \n",
       "0         8.106   5.0  \n",
       "1         8.106   6.0  \n",
       "2         8.106   7.0  \n",
       "3         8.106   8.0  \n",
       "4         8.106   9.0  "
      ]
     },
     "metadata": {},
     "output_type": "display_data"
    },
    {
     "name": "stdout",
     "output_type": "stream",
     "text": [
      "\n",
      "Basics statistics: \n"
     ]
    },
    {
     "data": {
      "text/html": [
       "<div>\n",
       "<style scoped>\n",
       "    .dataframe tbody tr th:only-of-type {\n",
       "        vertical-align: middle;\n",
       "    }\n",
       "\n",
       "    .dataframe tbody tr th {\n",
       "        vertical-align: top;\n",
       "    }\n",
       "\n",
       "    .dataframe thead th {\n",
       "        text-align: right;\n",
       "    }\n",
       "</style>\n",
       "<table border=\"1\" class=\"dataframe\">\n",
       "  <thead>\n",
       "    <tr style=\"text-align: right;\">\n",
       "      <th></th>\n",
       "      <th>Store</th>\n",
       "      <th>Weekly_Sales</th>\n",
       "      <th>Holiday_Flag</th>\n",
       "      <th>Temperature</th>\n",
       "      <th>Fuel_Price</th>\n",
       "      <th>CPI</th>\n",
       "      <th>Unemployment</th>\n",
       "      <th>Week</th>\n",
       "    </tr>\n",
       "  </thead>\n",
       "  <tbody>\n",
       "    <tr>\n",
       "      <th>count</th>\n",
       "      <td>6297.000000</td>\n",
       "      <td>6.297000e+03</td>\n",
       "      <td>6286.000000</td>\n",
       "      <td>6283.000000</td>\n",
       "      <td>6285.000000</td>\n",
       "      <td>6286.000000</td>\n",
       "      <td>6283.000000</td>\n",
       "      <td>6279.000000</td>\n",
       "    </tr>\n",
       "    <tr>\n",
       "      <th>mean</th>\n",
       "      <td>22.722566</td>\n",
       "      <td>1.055463e+06</td>\n",
       "      <td>0.069997</td>\n",
       "      <td>60.433589</td>\n",
       "      <td>3.359432</td>\n",
       "      <td>173.251996</td>\n",
       "      <td>7.780878</td>\n",
       "      <td>25.900621</td>\n",
       "    </tr>\n",
       "    <tr>\n",
       "      <th>std</th>\n",
       "      <td>13.069591</td>\n",
       "      <td>5.693211e+05</td>\n",
       "      <td>0.255162</td>\n",
       "      <td>18.487402</td>\n",
       "      <td>0.461103</td>\n",
       "      <td>39.150100</td>\n",
       "      <td>1.512723</td>\n",
       "      <td>14.125355</td>\n",
       "    </tr>\n",
       "    <tr>\n",
       "      <th>min</th>\n",
       "      <td>1.000000</td>\n",
       "      <td>2.099862e+05</td>\n",
       "      <td>0.000000</td>\n",
       "      <td>-2.060000</td>\n",
       "      <td>2.472000</td>\n",
       "      <td>126.064000</td>\n",
       "      <td>3.879000</td>\n",
       "      <td>1.000000</td>\n",
       "    </tr>\n",
       "    <tr>\n",
       "      <th>25%</th>\n",
       "      <td>11.000000</td>\n",
       "      <td>5.570752e+05</td>\n",
       "      <td>0.000000</td>\n",
       "      <td>46.970000</td>\n",
       "      <td>2.915000</td>\n",
       "      <td>132.586532</td>\n",
       "      <td>6.881000</td>\n",
       "      <td>14.000000</td>\n",
       "    </tr>\n",
       "    <tr>\n",
       "      <th>50%</th>\n",
       "      <td>22.000000</td>\n",
       "      <td>9.619933e+05</td>\n",
       "      <td>0.000000</td>\n",
       "      <td>62.590000</td>\n",
       "      <td>3.467000</td>\n",
       "      <td>188.274383</td>\n",
       "      <td>7.852000</td>\n",
       "      <td>26.000000</td>\n",
       "    </tr>\n",
       "    <tr>\n",
       "      <th>75%</th>\n",
       "      <td>34.000000</td>\n",
       "      <td>1.438383e+06</td>\n",
       "      <td>0.000000</td>\n",
       "      <td>74.830000</td>\n",
       "      <td>3.735000</td>\n",
       "      <td>213.206962</td>\n",
       "      <td>8.521000</td>\n",
       "      <td>38.000000</td>\n",
       "    </tr>\n",
       "    <tr>\n",
       "      <th>max</th>\n",
       "      <td>45.000000</td>\n",
       "      <td>3.818686e+06</td>\n",
       "      <td>1.000000</td>\n",
       "      <td>100.140000</td>\n",
       "      <td>4.468000</td>\n",
       "      <td>227.232807</td>\n",
       "      <td>13.503000</td>\n",
       "      <td>52.000000</td>\n",
       "    </tr>\n",
       "  </tbody>\n",
       "</table>\n",
       "</div>"
      ],
      "text/plain": [
       "             Store  Weekly_Sales  Holiday_Flag  Temperature   Fuel_Price  \\\n",
       "count  6297.000000  6.297000e+03   6286.000000  6283.000000  6285.000000   \n",
       "mean     22.722566  1.055463e+06      0.069997    60.433589     3.359432   \n",
       "std      13.069591  5.693211e+05      0.255162    18.487402     0.461103   \n",
       "min       1.000000  2.099862e+05      0.000000    -2.060000     2.472000   \n",
       "25%      11.000000  5.570752e+05      0.000000    46.970000     2.915000   \n",
       "50%      22.000000  9.619933e+05      0.000000    62.590000     3.467000   \n",
       "75%      34.000000  1.438383e+06      0.000000    74.830000     3.735000   \n",
       "max      45.000000  3.818686e+06      1.000000   100.140000     4.468000   \n",
       "\n",
       "               CPI  Unemployment         Week  \n",
       "count  6286.000000   6283.000000  6279.000000  \n",
       "mean    173.251996      7.780878    25.900621  \n",
       "std      39.150100      1.512723    14.125355  \n",
       "min     126.064000      3.879000     1.000000  \n",
       "25%     132.586532      6.881000    14.000000  \n",
       "50%     188.274383      7.852000    26.000000  \n",
       "75%     213.206962      8.521000    38.000000  \n",
       "max     227.232807     13.503000    52.000000  "
      ]
     },
     "metadata": {},
     "output_type": "display_data"
    },
    {
     "name": "stdout",
     "output_type": "stream",
     "text": [
      "\n",
      "Distinct values: \n"
     ]
    },
    {
     "data": {
      "text/plain": [
       "Store             45\n",
       "Weekly_Sales    6216\n",
       "Holiday_Flag       3\n",
       "Temperature     3495\n",
       "Fuel_Price       881\n",
       "CPI             2158\n",
       "Unemployment     358\n",
       "Week              53\n",
       "dtype: int64"
      ]
     },
     "metadata": {},
     "output_type": "display_data"
    }
   ],
   "source": [
    "MyFunct.explore(dataset)"
   ]
  },
  {
   "cell_type": "markdown",
   "metadata": {},
   "source": [
    "# Linear Regression Models"
   ]
  },
  {
   "cell_type": "markdown",
   "metadata": {},
   "source": [
    "## Data Preparing for Modeling"
   ]
  },
  {
   "cell_type": "markdown",
   "metadata": {},
   "source": [
    ">Linear regression has five key assumptions:\n",
    "\n",
    ">>(1) X and y are linearly related,  \n",
    "(2) the features in X are independant    \n",
    "(3) Residuals are independent   \n",
    "(4) Residuals are normally distributed    \n",
    "(5) Residuals have the same variance (Homoscedasticity)   "
   ]
  },
  {
   "cell_type": "code",
   "execution_count": 4,
   "metadata": {},
   "outputs": [],
   "source": [
    "# Define target variable (y) and explanatory variables (X)\n",
    "Y = dataset['Weekly_Sales']\n",
    "X = dataset.drop('Weekly_Sales', axis = 'columns')"
   ]
  },
  {
   "cell_type": "code",
   "execution_count": 5,
   "metadata": {},
   "outputs": [],
   "source": [
    "# Divide dataset \n",
    "X_train, X_test, Y_train, Y_test = train_test_split(X, Y, test_size=0.2, random_state=0)\n",
    "\n",
    "# Convert pandas DataFrames to numpy arrays before using scikit-learn\n",
    "X_train = X_train.values\n",
    "X_test = X_test.values\n",
    "Y_train = Y_train.tolist()\n",
    "Y_test = Y_test.tolist()\n",
    "\n",
    "# Create pipeline for numeric features \n",
    "#Num_X =['Temperature', 'Fuel_Price', 'CPI', 'Unemployment', 'Week'] \n",
    "num_X = [2,3,4,5,6]\n",
    "numeric_transformer = Pipeline(steps=[\n",
    "    ('imputer', SimpleImputer(strategy='median')), \n",
    "    ('scaler', StandardScaler())\n",
    "])\n",
    "\n",
    "# Create pipeline for categorical features\n",
    "#cat_X = ['Store', 'Holiday_Flag']\n",
    "cat_X = [0,1]\n",
    "categorical_transformer = Pipeline(steps=[\n",
    "    ('imputer', SimpleImputer(strategy='most_frequent')),\n",
    "    ('encoder', OneHotEncoder(drop='first'))\n",
    "])\n",
    "\n",
    "# Use ColumnTranformer to make a preprocessor object \n",
    "preprocessor = ColumnTransformer(\n",
    "    transformers=[\n",
    "        ('num', numeric_transformer, num_X),\n",
    "        ('cat', categorical_transformer, cat_X)\n",
    "    ])\n",
    "\n",
    "# Preprocessings on train set\n",
    "X_train = preprocessor.fit_transform(X_train)\n",
    "X_test  = preprocessor.transform(X_test)"
   ]
  },
  {
   "cell_type": "code",
   "execution_count": 6,
   "metadata": {},
   "outputs": [
    {
     "name": "stdout",
     "output_type": "stream",
     "text": [
      "categories: [array([ 1.,  2.,  3.,  4.,  5.,  6.,  7.,  8.,  9., 10., 11., 12., 13.,\n",
      "       14., 15., 16., 17., 18., 19., 20., 21., 22., 23., 24., 25., 26.,\n",
      "       27., 28., 29., 30., 31., 32., 33., 34., 35., 36., 37., 38., 39.,\n",
      "       40., 41., 42., 43., 44., 45.]), array([0., 1.])]\n",
      "features: ['x0_2.0' 'x0_3.0' 'x0_4.0' 'x0_5.0' 'x0_6.0' 'x0_7.0' 'x0_8.0' 'x0_9.0'\n",
      " 'x0_10.0' 'x0_11.0' 'x0_12.0' 'x0_13.0' 'x0_14.0' 'x0_15.0' 'x0_16.0'\n",
      " 'x0_17.0' 'x0_18.0' 'x0_19.0' 'x0_20.0' 'x0_21.0' 'x0_22.0' 'x0_23.0'\n",
      " 'x0_24.0' 'x0_25.0' 'x0_26.0' 'x0_27.0' 'x0_28.0' 'x0_29.0' 'x0_30.0'\n",
      " 'x0_31.0' 'x0_32.0' 'x0_33.0' 'x0_34.0' 'x0_35.0' 'x0_36.0' 'x0_37.0'\n",
      " 'x0_38.0' 'x0_39.0' 'x0_40.0' 'x0_41.0' 'x0_42.0' 'x0_43.0' 'x0_44.0'\n",
      " 'x0_45.0' 'x1_1.0']\n"
     ]
    }
   ],
   "source": [
    "# categories and features'names\n",
    "categories = preprocessor.transformers_[1][1].named_steps['encoder'].categories_\n",
    "print(f'categories: {categories}')\n",
    "features = preprocessor.transformers_[1][1].named_steps['encoder'].get_feature_names()\n",
    "print(f'features: {features}')"
   ]
  },
  {
   "cell_type": "markdown",
   "metadata": {},
   "source": [
    "## Dummy Regressor"
   ]
  },
  {
   "cell_type": "code",
   "execution_count": 7,
   "metadata": {},
   "outputs": [
    {
     "data": {
      "text/html": [
       "<div>\n",
       "<style scoped>\n",
       "    .dataframe tbody tr th:only-of-type {\n",
       "        vertical-align: middle;\n",
       "    }\n",
       "\n",
       "    .dataframe tbody tr th {\n",
       "        vertical-align: top;\n",
       "    }\n",
       "\n",
       "    .dataframe thead th {\n",
       "        text-align: right;\n",
       "    }\n",
       "</style>\n",
       "<table border=\"1\" class=\"dataframe\">\n",
       "  <thead>\n",
       "    <tr style=\"text-align: right;\">\n",
       "      <th></th>\n",
       "      <th></th>\n",
       "      <th>Dummy Regressor</th>\n",
       "    </tr>\n",
       "  </thead>\n",
       "  <tbody>\n",
       "    <tr>\n",
       "      <th rowspan=\"2\" valign=\"top\">RMSE</th>\n",
       "      <th>Train</th>\n",
       "      <td>567328.360407</td>\n",
       "    </tr>\n",
       "    <tr>\n",
       "      <th>Test</th>\n",
       "      <td>576996.112490</td>\n",
       "    </tr>\n",
       "    <tr>\n",
       "      <th rowspan=\"2\" valign=\"top\">R2</th>\n",
       "      <th>Train</th>\n",
       "      <td>0.000000</td>\n",
       "    </tr>\n",
       "    <tr>\n",
       "      <th>Test</th>\n",
       "      <td>-0.000009</td>\n",
       "    </tr>\n",
       "    <tr>\n",
       "      <th rowspan=\"2\" valign=\"top\">ADJ R2</th>\n",
       "      <th>Train</th>\n",
       "      <td>-0.010028</td>\n",
       "    </tr>\n",
       "    <tr>\n",
       "      <th>Test</th>\n",
       "      <td>-0.010037</td>\n",
       "    </tr>\n",
       "  </tbody>\n",
       "</table>\n",
       "</div>"
      ],
      "text/plain": [
       "              Dummy Regressor\n",
       "RMSE   Train    567328.360407\n",
       "       Test     576996.112490\n",
       "R2     Train         0.000000\n",
       "       Test         -0.000009\n",
       "ADJ R2 Train        -0.010028\n",
       "       Test         -0.010037"
      ]
     },
     "execution_count": 7,
     "metadata": {},
     "output_type": "execute_result"
    }
   ],
   "source": [
    "dummy_regressor = DummyRegressor(strategy = 'mean')\n",
    "dummy_regressor.fit(X_train, Y_train)\n",
    "\n",
    "y_train_pred, y_test_pred= dummy_regressor.predict(X_train), dummy_regressor.predict(X_test)\n",
    "mse_train, mse_test = mean_squared_error(Y_train,y_train_pred ), mean_squared_error(Y_test, y_test_pred)\n",
    "r2_train, r2_test = r2_score(Y_train,y_train_pred), r2_score(Y_test, y_test_pred)\n",
    "adjR2_train, adjR2_test = MyFunct.adjusted_r2(r2_train, X_train.shape[0], X_train.shape[1]), MyFunct.adjusted_r2(r2_test, X_train.shape[0], X_train.shape[1]) \n",
    "\n",
    "iterables = [[\"RMSE\", \"R2\", \"ADJ R2\"], [\"Train\", \"Test\"]]\n",
    "ind = pd.MultiIndex.from_product(iterables)\n",
    "\n",
    "metrics = pd.DataFrame(columns=['Dummy Regressor'], index = ind)\n",
    "metrics['Dummy Regressor'] = [np.sqrt(mse_train), np.sqrt(mse_test), r2_train, r2_test, adjR2_train, adjR2_test]\n",
    "metrics"
   ]
  },
  {
   "cell_type": "markdown",
   "metadata": {},
   "source": [
    "## Linear Regressor"
   ]
  },
  {
   "cell_type": "code",
   "execution_count": 8,
   "metadata": {},
   "outputs": [
    {
     "data": {
      "text/html": [
       "<div>\n",
       "<style scoped>\n",
       "    .dataframe tbody tr th:only-of-type {\n",
       "        vertical-align: middle;\n",
       "    }\n",
       "\n",
       "    .dataframe tbody tr th {\n",
       "        vertical-align: top;\n",
       "    }\n",
       "\n",
       "    .dataframe thead th {\n",
       "        text-align: right;\n",
       "    }\n",
       "</style>\n",
       "<table border=\"1\" class=\"dataframe\">\n",
       "  <thead>\n",
       "    <tr style=\"text-align: right;\">\n",
       "      <th></th>\n",
       "      <th></th>\n",
       "      <th>Dummy Regressor</th>\n",
       "      <th>Linear Regressor</th>\n",
       "    </tr>\n",
       "  </thead>\n",
       "  <tbody>\n",
       "    <tr>\n",
       "      <th rowspan=\"2\" valign=\"top\">RMSE</th>\n",
       "      <th>Train</th>\n",
       "      <td>567328.360407</td>\n",
       "      <td>152726.329640</td>\n",
       "    </tr>\n",
       "    <tr>\n",
       "      <th>Test</th>\n",
       "      <td>576996.112490</td>\n",
       "      <td>156892.312389</td>\n",
       "    </tr>\n",
       "    <tr>\n",
       "      <th rowspan=\"2\" valign=\"top\">R2</th>\n",
       "      <th>Train</th>\n",
       "      <td>0.000000</td>\n",
       "      <td>0.927530</td>\n",
       "    </tr>\n",
       "    <tr>\n",
       "      <th>Test</th>\n",
       "      <td>-0.000009</td>\n",
       "      <td>0.926063</td>\n",
       "    </tr>\n",
       "    <tr>\n",
       "      <th rowspan=\"2\" valign=\"top\">ADJ R2</th>\n",
       "      <th>Train</th>\n",
       "      <td>-0.010028</td>\n",
       "      <td>0.926803</td>\n",
       "    </tr>\n",
       "    <tr>\n",
       "      <th>Test</th>\n",
       "      <td>-0.010037</td>\n",
       "      <td>0.925322</td>\n",
       "    </tr>\n",
       "  </tbody>\n",
       "</table>\n",
       "</div>"
      ],
      "text/plain": [
       "              Dummy Regressor  Linear Regressor\n",
       "RMSE   Train    567328.360407     152726.329640\n",
       "       Test     576996.112490     156892.312389\n",
       "R2     Train         0.000000          0.927530\n",
       "       Test         -0.000009          0.926063\n",
       "ADJ R2 Train        -0.010028          0.926803\n",
       "       Test         -0.010037          0.925322"
      ]
     },
     "execution_count": 8,
     "metadata": {},
     "output_type": "execute_result"
    }
   ],
   "source": [
    "linear_regressor = LinearRegression()\n",
    "linear_regressor.fit(X_train, Y_train)\n",
    "\n",
    "y_train_pred, y_test_pred= linear_regressor.predict(X_train), linear_regressor.predict(X_test)\n",
    "mse_train, mse_test = mean_squared_error(Y_train,y_train_pred ), mean_squared_error(Y_test, y_test_pred)\n",
    "r2_train, r2_test = r2_score(Y_train,y_train_pred), r2_score(Y_test, y_test_pred)\n",
    "adjR2_train, adjR2_test = MyFunct.adjusted_r2(r2_train, X_train.shape[0], X_train.shape[1]), MyFunct.adjusted_r2(r2_test, X_train.shape[0], X_train.shape[1]) \n",
    "\n",
    "# compute SS for the F_value computation\n",
    "SST1, SSR1, SSE1 = MyFunct.sum_squares(Y_train, y_train_pred)\n",
    "\n",
    "metrics['Linear Regressor'] = [np.sqrt(mse_train), np.sqrt(mse_test), r2_train, r2_test,adjR2_train, adjR2_test]\n",
    "metrics"
   ]
  },
  {
   "cell_type": "markdown",
   "metadata": {},
   "source": [
    "**Observation** The Dummy Regressor always predict the r2_ score as 0 since it is always predicting a constant (mean) without having an insight of the output. The Linear Regression Model seems to fit much better than the Dummy Regressor in terms of “mean squared error” and “r2_score”. "
   ]
  },
  {
   "cell_type": "markdown",
   "metadata": {},
   "source": [
    "## Ridge Regressor "
   ]
  },
  {
   "cell_type": "code",
   "execution_count": 9,
   "metadata": {
    "colab": {
     "base_uri": "https://localhost:8080/",
     "height": 372
    },
    "colab_type": "code",
    "id": "5kjsUd-2AqMw",
    "outputId": "e63e3d25-f209-4987-bf5a-c2625303680e",
    "tags": [
     "outputPrepend"
    ]
   },
   "outputs": [
    {
     "data": {
      "text/plain": [
       "<AxesSubplot:xlabel='param_alpha'>"
      ]
     },
     "execution_count": 9,
     "metadata": {},
     "output_type": "execute_result"
    },
    {
     "data": {
      "image/png": "[encoded data removed]",
      "text/plain": [
       "<Figure size 432x288 with 1 Axes>"
      ]
     },
     "metadata": {
      "needs_background": "light"
     },
     "output_type": "display_data"
    }
   ],
   "source": [
    "ridge = Ridge() \n",
    "params = {'alpha': [1e-20,1e-15, 1e-10, 1e-8, 1e-4, 1e-3,1e-2, 1, 5, 10, 20, 50, 100, 500, 1000]} \n",
    "\n",
    "grid = GridSearchCV(ridge, params, cv = 3, verbose = 0, return_train_score = True)\n",
    "grid_fit = grid.fit(X_train, Y_train)\n",
    "\n",
    "grid_results = pd.DataFrame(grid_fit.cv_results_)\n",
    "\n",
    "grid_results.plot('param_alpha',y=['mean_test_score','mean_train_score'])"
   ]
  },
  {
   "cell_type": "markdown",
   "metadata": {},
   "source": [
    ">**Observation** \n",
    ">>As alpha moves away from 0, the performance of the model gets worse.  \n",
    "Hence, the best alpha lies arround 0. \n",
    "\n",
    ">>We don't see any significant improvement in the scores.  \n",
    "It doesn't matter how alpha gets larger, the difference between R2(train) and R2(test) remains constant"
   ]
  },
  {
   "cell_type": "code",
   "execution_count": 10,
   "metadata": {},
   "outputs": [
    {
     "name": "stdout",
     "output_type": "stream",
     "text": [
      " best estimator : Ridge(alpha=1e-10)\n"
     ]
    },
    {
     "data": {
      "text/html": [
       "<div>\n",
       "<style scoped>\n",
       "    .dataframe tbody tr th:only-of-type {\n",
       "        vertical-align: middle;\n",
       "    }\n",
       "\n",
       "    .dataframe tbody tr th {\n",
       "        vertical-align: top;\n",
       "    }\n",
       "\n",
       "    .dataframe thead th {\n",
       "        text-align: right;\n",
       "    }\n",
       "</style>\n",
       "<table border=\"1\" class=\"dataframe\">\n",
       "  <thead>\n",
       "    <tr style=\"text-align: right;\">\n",
       "      <th></th>\n",
       "      <th></th>\n",
       "      <th>Dummy Regressor</th>\n",
       "      <th>Linear Regressor</th>\n",
       "      <th>Ridge Regressor</th>\n",
       "    </tr>\n",
       "  </thead>\n",
       "  <tbody>\n",
       "    <tr>\n",
       "      <th rowspan=\"2\" valign=\"top\">RMSE</th>\n",
       "      <th>Train</th>\n",
       "      <td>567328.360407</td>\n",
       "      <td>152726.329640</td>\n",
       "      <td>153158.986012</td>\n",
       "    </tr>\n",
       "    <tr>\n",
       "      <th>Test</th>\n",
       "      <td>576996.112490</td>\n",
       "      <td>156892.312389</td>\n",
       "      <td>157582.190339</td>\n",
       "    </tr>\n",
       "    <tr>\n",
       "      <th rowspan=\"2\" valign=\"top\">R2</th>\n",
       "      <th>Train</th>\n",
       "      <td>0.000000</td>\n",
       "      <td>0.927530</td>\n",
       "      <td>0.927119</td>\n",
       "    </tr>\n",
       "    <tr>\n",
       "      <th>Test</th>\n",
       "      <td>-0.000009</td>\n",
       "      <td>0.926063</td>\n",
       "      <td>0.925411</td>\n",
       "    </tr>\n",
       "    <tr>\n",
       "      <th rowspan=\"2\" valign=\"top\">ADJ R2</th>\n",
       "      <th>Train</th>\n",
       "      <td>-0.010028</td>\n",
       "      <td>0.926803</td>\n",
       "      <td>0.926388</td>\n",
       "    </tr>\n",
       "    <tr>\n",
       "      <th>Test</th>\n",
       "      <td>-0.010037</td>\n",
       "      <td>0.925322</td>\n",
       "      <td>0.924663</td>\n",
       "    </tr>\n",
       "  </tbody>\n",
       "</table>\n",
       "</div>"
      ],
      "text/plain": [
       "              Dummy Regressor  Linear Regressor  Ridge Regressor\n",
       "RMSE   Train    567328.360407     152726.329640    153158.986012\n",
       "       Test     576996.112490     156892.312389    157582.190339\n",
       "R2     Train         0.000000          0.927530         0.927119\n",
       "       Test         -0.000009          0.926063         0.925411\n",
       "ADJ R2 Train        -0.010028          0.926803         0.926388\n",
       "       Test         -0.010037          0.925322         0.924663"
      ]
     },
     "execution_count": 10,
     "metadata": {},
     "output_type": "execute_result"
    }
   ],
   "source": [
    "best_ridge_estimator = grid_fit.best_estimator_\n",
    "print(f' best estimator : {best_ridge_estimator}')\n",
    "\n",
    "y_train_pred, y_test_pred= grid_fit.predict(X_train), grid_fit.predict(X_test)\n",
    "mse_train, mse_test = mean_squared_error(Y_train,y_train_pred ), mean_squared_error(Y_test, y_test_pred)\n",
    "r2_train, r2_test = r2_score(Y_train,y_train_pred), r2_score(Y_test, y_test_pred)\n",
    "adjR2_train, adjR2_test = MyFunct.adjusted_r2(r2_train, X_train.shape[0], X_train.shape[1]), MyFunct.adjusted_r2(r2_test, X_train.shape[0], X_train.shape[1]) \n",
    "\n",
    "metrics['Ridge Regressor'] = [np.sqrt(mse_train), np.sqrt(mse_test), r2_train, r2_test, adjR2_train, adjR2_test]\n",
    "metrics"
   ]
  },
  {
   "cell_type": "markdown",
   "metadata": {},
   "source": [
    "## Lasso Regressor "
   ]
  },
  {
   "cell_type": "code",
   "execution_count": 11,
   "metadata": {
    "colab": {
     "base_uri": "https://localhost:8080/",
     "height": 372
    },
    "colab_type": "code",
    "id": "5kjsUd-2AqMw",
    "outputId": "e63e3d25-f209-4987-bf5a-c2625303680e",
    "tags": [
     "outputPrepend"
    ]
   },
   "outputs": [
    {
     "data": {
      "text/plain": [
       "<AxesSubplot:xlabel='param_alpha'>"
      ]
     },
     "execution_count": 11,
     "metadata": {},
     "output_type": "execute_result"
    },
    {
     "data": {
      "image/png": "[encoded data removed]",
      "text/plain": [
       "<Figure size 432x288 with 1 Axes>"
      ]
     },
     "metadata": {
      "needs_background": "light"
     },
     "output_type": "display_data"
    }
   ],
   "source": [
    "lasso = Lasso() \n",
    "params = {'alpha': [1e-20,1e-15, 1e-10, 1e-8, 1e-4, 1e-3,1e-2, 1, 5, 10, 20,50,100, 500, 1000]} \n",
    "\n",
    "grid = GridSearchCV(lasso, params, cv = 3, verbose = 0, return_train_score = True)\n",
    "grid_fit = grid.fit(X_train, Y_train)\n",
    "\n",
    "grid_results = pd.DataFrame(grid_fit.cv_results_)\n",
    "grid_results.plot('param_alpha',y=['mean_test_score','mean_train_score'])"
   ]
  },
  {
   "cell_type": "markdown",
   "metadata": {},
   "source": [
    "**Observation** with the lasso, we don't see any significant improvement in the scores.  \n",
    "It doesn't matter how alpha gets larger, the difference between R2(train) and R2(test) is approximately constant"
   ]
  },
  {
   "cell_type": "code",
   "execution_count": 12,
   "metadata": {},
   "outputs": [
    {
     "name": "stdout",
     "output_type": "stream",
     "text": [
      " best estimator : Lasso(alpha=1)\n"
     ]
    },
    {
     "data": {
      "text/html": [
       "<div>\n",
       "<style scoped>\n",
       "    .dataframe tbody tr th:only-of-type {\n",
       "        vertical-align: middle;\n",
       "    }\n",
       "\n",
       "    .dataframe tbody tr th {\n",
       "        vertical-align: top;\n",
       "    }\n",
       "\n",
       "    .dataframe thead th {\n",
       "        text-align: right;\n",
       "    }\n",
       "</style>\n",
       "<table border=\"1\" class=\"dataframe\">\n",
       "  <thead>\n",
       "    <tr style=\"text-align: right;\">\n",
       "      <th></th>\n",
       "      <th></th>\n",
       "      <th>Dummy Regressor</th>\n",
       "      <th>Linear Regressor</th>\n",
       "      <th>Ridge Regressor</th>\n",
       "      <th>Lasso Regressor</th>\n",
       "    </tr>\n",
       "  </thead>\n",
       "  <tbody>\n",
       "    <tr>\n",
       "      <th rowspan=\"2\" valign=\"top\">RMSE</th>\n",
       "      <th>Train</th>\n",
       "      <td>567328.360407</td>\n",
       "      <td>152726.329640</td>\n",
       "      <td>153158.986012</td>\n",
       "      <td>152731.581165</td>\n",
       "    </tr>\n",
       "    <tr>\n",
       "      <th>Test</th>\n",
       "      <td>576996.112490</td>\n",
       "      <td>156892.312389</td>\n",
       "      <td>157582.190339</td>\n",
       "      <td>156919.292010</td>\n",
       "    </tr>\n",
       "    <tr>\n",
       "      <th rowspan=\"2\" valign=\"top\">R2</th>\n",
       "      <th>Train</th>\n",
       "      <td>0.000000</td>\n",
       "      <td>0.927530</td>\n",
       "      <td>0.927119</td>\n",
       "      <td>0.927525</td>\n",
       "    </tr>\n",
       "    <tr>\n",
       "      <th>Test</th>\n",
       "      <td>-0.000009</td>\n",
       "      <td>0.926063</td>\n",
       "      <td>0.925411</td>\n",
       "      <td>0.926038</td>\n",
       "    </tr>\n",
       "    <tr>\n",
       "      <th rowspan=\"2\" valign=\"top\">ADJ R2</th>\n",
       "      <th>Train</th>\n",
       "      <td>-0.010028</td>\n",
       "      <td>0.926803</td>\n",
       "      <td>0.926388</td>\n",
       "      <td>0.926798</td>\n",
       "    </tr>\n",
       "    <tr>\n",
       "      <th>Test</th>\n",
       "      <td>-0.010037</td>\n",
       "      <td>0.925322</td>\n",
       "      <td>0.924663</td>\n",
       "      <td>0.925296</td>\n",
       "    </tr>\n",
       "  </tbody>\n",
       "</table>\n",
       "</div>"
      ],
      "text/plain": [
       "              Dummy Regressor  Linear Regressor  Ridge Regressor  \\\n",
       "RMSE   Train    567328.360407     152726.329640    153158.986012   \n",
       "       Test     576996.112490     156892.312389    157582.190339   \n",
       "R2     Train         0.000000          0.927530         0.927119   \n",
       "       Test         -0.000009          0.926063         0.925411   \n",
       "ADJ R2 Train        -0.010028          0.926803         0.926388   \n",
       "       Test         -0.010037          0.925322         0.924663   \n",
       "\n",
       "              Lasso Regressor  \n",
       "RMSE   Train    152731.581165  \n",
       "       Test     156919.292010  \n",
       "R2     Train         0.927525  \n",
       "       Test          0.926038  \n",
       "ADJ R2 Train         0.926798  \n",
       "       Test          0.925296  "
      ]
     },
     "execution_count": 12,
     "metadata": {},
     "output_type": "execute_result"
    }
   ],
   "source": [
    "best_lasso_estimator = grid_fit.best_estimator_\n",
    "print(f' best estimator : {best_lasso_estimator}')\n",
    "\n",
    "y_train_pred, y_test_pred= grid_fit.predict(X_train), grid_fit.predict(X_test)\n",
    "mse_train, mse_test = mean_squared_error(Y_train,y_train_pred ), mean_squared_error(Y_test, y_test_pred)\n",
    "r2_train, r2_test = r2_score(Y_train,y_train_pred), r2_score(Y_test, y_test_pred)\n",
    "adjR2_train, adjR2_test = MyFunct.adjusted_r2(r2_train, X_train.shape[0], X_train.shape[1]), MyFunct.adjusted_r2(r2_test, X_train.shape[0], X_train.shape[1]) \n",
    "\n",
    "metrics['Lasso Regressor'] = [np.sqrt(mse_train), np.sqrt(mse_test), r2_train, r2_test, adjR2_train, adjR2_test ]\n",
    "metrics"
   ]
  },
  {
   "cell_type": "code",
   "execution_count": 13,
   "metadata": {},
   "outputs": [
    {
     "data": {
      "text/plain": [
       "<AxesSubplot:xlabel='RMSE'>"
      ]
     },
     "execution_count": 13,
     "metadata": {},
     "output_type": "execute_result"
    },
    {
     "data": {
      "image/png": "[encoded data removed]",
      "text/plain": [
       "<Figure size 720x360 with 1 Axes>"
      ]
     },
     "metadata": {
      "needs_background": "light"
     },
     "output_type": "display_data"
    }
   ],
   "source": [
    "metrics.loc['RMSE'].plot(kind='bar', xlabel='RMSE', figsize=(10,5))"
   ]
  },
  {
   "cell_type": "code",
   "execution_count": 14,
   "metadata": {},
   "outputs": [
    {
     "data": {
      "text/plain": [
       "<AxesSubplot:xlabel='R2'>"
      ]
     },
     "execution_count": 14,
     "metadata": {},
     "output_type": "execute_result"
    },
    {
     "data": {
      "image/png": "[encoded data removed]",
      "text/plain": [
       "<Figure size 720x360 with 1 Axes>"
      ]
     },
     "metadata": {
      "needs_background": "light"
     },
     "output_type": "display_data"
    }
   ],
   "source": [
    "metrics.loc['R2'].plot(kind='bar', xlabel='R2', figsize=(10,5))"
   ]
  },
  {
   "cell_type": "markdown",
   "metadata": {},
   "source": [
    ">**Conclusion 1** : \n",
    ">>There is **no difference** in performance between the unregularized Linear regression model (alpha =0) and the regularized linear regression models\n",
    "\n",
    ">> Anyway, the linear regressor gives good performance indicators and it seems that there no overfitting."
   ]
  },
  {
   "cell_type": "markdown",
   "metadata": {},
   "source": [
    "## Features Importance"
   ]
  },
  {
   "cell_type": "code",
   "execution_count": 15,
   "metadata": {},
   "outputs": [
    {
     "data": {
      "text/plain": [
       "array([ 1.,  2.,  3.,  4.,  5.,  6.,  7.,  8.,  9., 10., 11., 12., 13.,\n",
       "       14., 15., 16., 17., 18., 19., 20., 21., 22., 23., 24., 25., 26.,\n",
       "       27., 28., 29., 30., 31., 32., 33., 34., 35., 36., 37., 38., 39.,\n",
       "       40., 41., 42., 43., 44., 45.])"
      ]
     },
     "execution_count": 15,
     "metadata": {},
     "output_type": "execute_result"
    }
   ],
   "source": [
    "dataset.Store.unique()"
   ]
  },
  {
   "cell_type": "code",
   "execution_count": 16,
   "metadata": {},
   "outputs": [
    {
     "data": {
      "text/plain": [
       "Index(['Store', 'Weekly_Sales', 'Holiday_Flag', 'Temperature', 'Fuel_Price',\n",
       "       'CPI', 'Unemployment', 'Week'],\n",
       "      dtype='object')"
      ]
     },
     "execution_count": 16,
     "metadata": {},
     "output_type": "execute_result"
    }
   ],
   "source": [
    "dataset.columns"
   ]
  },
  {
   "cell_type": "code",
   "execution_count": null,
   "metadata": {},
   "outputs": [],
   "source": [
    "coef = pd.DataFrame()\n",
    "coef['feature'] = ['Temperature', 'Fuel_Price', 'CPI', 'Unemployment', 'Week'] + ['Store_%d'%i for i in range(2,46)]+ ['Holiday_Flag']\n",
    "\n",
    "coef['coef_linear_regressor'] = linear_regressor.coef_\n",
    "coef['coef_linear_regressor'] = coef.coef_linear_regressor.abs()\n",
    "coef = coef.sort_values(by = 'coef_linear_regressor', ascending = True)\n",
    "\n",
    "px.bar(coef, x ='coef_linear_regressor', y = 'feature')"
   ]
  },
  {
   "cell_type": "markdown",
   "metadata": {},
   "source": [
    "<img src=\"Viz/coef_1.png\">"
   ]
  },
  {
   "cell_type": "code",
   "execution_count": 18,
   "metadata": {},
   "outputs": [
    {
     "data": {
      "text/html": [
       "<iframe\n",
       "    scrolling=\"no\"\n",
       "    width=\"100%\"\n",
       "    height=\"545px\"\n",
       "    src=\"iframe_figures/figure_18.html\"\n",
       "    frameborder=\"0\"\n",
       "    allowfullscreen\n",
       "></iframe>\n"
      ]
     },
     "metadata": {},
     "output_type": "display_data"
    }
   ],
   "source": [
    "coef = pd.DataFrame()\n",
    "coef['feature'] = ['Temperature', 'Fuel_Price', 'CPI', 'Unemployment', 'Week']+ ['Holiday_Flag']+ ['Store_%d'%i for i in range(2,8)]\n",
    "\n",
    "coef['coef_linear_regressor'] = [*list(linear_regressor.coef_[0:5]),linear_regressor.coef_[-1], *list(linear_regressor.coef_[5:11])]\n",
    "coef['coef_linear_regressor'] = coef.coef_linear_regressor.abs()\n",
    "coef = coef.sort_values(by = 'coef_linear_regressor', ascending = True)\n",
    "\n",
    "px.bar(coef, x ='coef_linear_regressor', y = 'feature')"
   ]
  },
  {
   "cell_type": "markdown",
   "metadata": {},
   "source": [
    "<img src=\"Viz/coef_2.png\">"
   ]
  },
  {
   "cell_type": "code",
   "execution_count": 19,
   "metadata": {},
   "outputs": [
    {
     "data": {
      "text/html": [
       "<iframe\n",
       "    scrolling=\"no\"\n",
       "    width=\"100%\"\n",
       "    height=\"545px\"\n",
       "    src=\"iframe_figures/figure_19.html\"\n",
       "    frameborder=\"0\"\n",
       "    allowfullscreen\n",
       "></iframe>\n"
      ]
     },
     "metadata": {},
     "output_type": "display_data"
    }
   ],
   "source": [
    "coef = pd.DataFrame()\n",
    "coef['feature'] = ['Temperature', 'Fuel_Price', 'CPI', 'Unemployment', 'Week']+ ['Holiday_Flag']+ ['Store_%d'%i for i in range(2,8)]\n",
    "\n",
    "coef['coef_best_lasso_estimator'] = [*list(best_lasso_estimator.coef_[0:5]),best_lasso_estimator.coef_[-1], *list(best_lasso_estimator.coef_[5:11])]\n",
    "coef['coef_best_lasso_estimator'] = coef.coef_best_lasso_estimator.abs()\n",
    "coef = coef.sort_values(by = 'coef_best_lasso_estimator', ascending = True)\n",
    "\n",
    "px.bar(coef, x ='coef_best_lasso_estimator', y = 'feature')"
   ]
  },
  {
   "cell_type": "markdown",
   "metadata": {},
   "source": [
    "<img src=\"Viz/coef_3.png\">"
   ]
  },
  {
   "cell_type": "markdown",
   "metadata": {},
   "source": [
    "# Summary\n",
    "\n",
    ">>The stores has a great impact on the prediction!!!   \n",
    "\n",
    ">> Propose another model that do not use stores as predictors"
   ]
  },
  {
   "cell_type": "code",
   "execution_count": 20,
   "metadata": {},
   "outputs": [],
   "source": [
    "# save the performance indicators computed so far\n",
    "import csv\n",
    "metrics.to_csv(results_path+\"metrics.csv\", index=False, quoting=csv.QUOTE_NONNUMERIC)"
   ]
  }
 ],
 "metadata": {
  "kernelspec": {
   "display_name": "Python 3 (ipykernel)",
   "language": "python",
   "name": "python3"
  },
  "language_info": {
   "codemirror_mode": {
    "name": "ipython",
    "version": 3
   },
   "file_extension": ".py",
   "mimetype": "text/x-python",
   "name": "python",
   "nbconvert_exporter": "python",
   "pygments_lexer": "ipython3",
   "version": "3.9.7"
  }
 },
 "nbformat": 4,
 "nbformat_minor": 4
}
