{
 "cells": [
  {
   "cell_type": "markdown",
   "metadata": {},
   "source": [
    "# Walmart Sales Prediction\n",
    "-----\n",
    ">In this second phase of the project, we will try to:  \n",
    "\n",
    ">> find out which model best suits this prediction problem   \n",
    ">> understand which predictors might have high impact on the prediction outputs\n",
    "\n",
    "> Please go to the folder **iframe_figures**, to see the different visualizations.\n",
    "\n",
    "---------"
   ]
  },
  {
   "cell_type": "markdown",
   "metadata": {},
   "source": [
    "### Table of Contents\n",
    "\n",
    "* [1. Load Data](#section1)\n",
    "* [2. Linear Regression Models](#section2)\n",
    "    * [2.1. Data Preparing for Modeling](#section21)\n",
    "    * [2.2. Linear Regressor](#section22)\n",
    "    * [2.6. Features Importance](#section26)"
   ]
  },
  {
   "cell_type": "code",
   "execution_count": 1,
   "metadata": {},
   "outputs": [],
   "source": [
    "import warnings\n",
    "warnings.filterwarnings('ignore')\n",
    "\n",
    "# Generic librairies \n",
    "import pandas as pd\n",
    "pd.options.display.max_columns=None\n",
    "\n",
    "import numpy as np\n",
    "\n",
    "# Visualization librairies \n",
    "import plotly.express as px\n",
    "import plotly.io as pio\n",
    "pio.renderers.default = \"iframe\" \n",
    "\n",
    "\n",
    "# Machine learning librairies\n",
    "# split\n",
    "from sklearn.model_selection import train_test_split\n",
    "\n",
    "# Preprocessing\n",
    "from sklearn.pipeline import Pipeline\n",
    "from sklearn.impute import SimpleImputer\n",
    "from sklearn.preprocessing import  OneHotEncoder, StandardScaler\n",
    "from sklearn.compose import ColumnTransformer\n",
    "\n",
    "# Regressors\n",
    "from sklearn.dummy import DummyRegressor\n",
    "from sklearn.linear_model import LinearRegression, Ridge, Lasso\n",
    "\n",
    "# score metrics\n",
    "from sklearn.metrics import r2_score, mean_squared_error, mean_absolute_error\n",
    "\n",
    "# model selection\n",
    "from sklearn.model_selection import cross_val_score, GridSearchCV\n",
    "\n",
    "# predefined modules\n",
    "from modules import MyFunctions as MyFunct\n",
    "\n",
    "# Global parameters \n",
    "filepath = 'data/prep_walmart_sales.csv'\n",
    "results_path='results/'"
   ]
  },
  {
   "cell_type": "markdown",
   "metadata": {},
   "source": [
    " # Load data"
   ]
  },
  {
   "cell_type": "code",
   "execution_count": 2,
   "metadata": {
    "tags": []
   },
   "outputs": [
    {
     "name": "stdout",
     "output_type": "stream",
     "text": [
      "Loading dataset...\n",
      "...Done.\n",
      "\n"
     ]
    }
   ],
   "source": [
    "print(\"Loading dataset...\")\n",
    "dataset = pd.read_csv(filepath)\n",
    "print(\"...Done.\")\n",
    "print()"
   ]
  },
  {
   "cell_type": "markdown",
   "metadata": {},
   "source": [
    "# Linear Regression Models"
   ]
  },
  {
   "cell_type": "markdown",
   "metadata": {},
   "source": [
    "## Data Preparing for Modeling"
   ]
  },
  {
   "cell_type": "code",
   "execution_count": 3,
   "metadata": {},
   "outputs": [],
   "source": [
    "# Define target variable (y) and explanatory variables (X)\n",
    "Y = dataset['Weekly_Sales']\n",
    "X = dataset.drop(['Weekly_Sales', 'Store'], axis = 'columns')"
   ]
  },
  {
   "cell_type": "code",
   "execution_count": 4,
   "metadata": {},
   "outputs": [],
   "source": [
    "# Divide dataset \n",
    "X_train, X_test, Y_train, Y_test = train_test_split(X, Y, test_size=0.2, random_state=0)\n",
    "\n",
    "# Convert pandas DataFrames to numpy arrays before using scikit-learn\n",
    "X_train = X_train.values\n",
    "X_test = X_test.values\n",
    "Y_train = Y_train.tolist()\n",
    "Y_test = Y_test.tolist()\n",
    "\n",
    "# Create pipeline for numeric features \n",
    "#Num_X =['Temperature', 'Fuel_Price', 'CPI', 'Unemployment', 'Week'] \n",
    "num_X = [1,2,3,4,5]\n",
    "numeric_transformer = Pipeline(steps=[\n",
    "    ('imputer', SimpleImputer(strategy='median')), \n",
    "    ('scaler', StandardScaler())\n",
    "])\n",
    "\n",
    "# Create pipeline for categorical features\n",
    "#cat_X = [Holiday_Flag']\n",
    "cat_X = [0]\n",
    "categorical_transformer = Pipeline(steps=[\n",
    "    ('imputer', SimpleImputer(strategy='most_frequent')),\n",
    "    ('encoder', OneHotEncoder(drop='first'))\n",
    "])\n",
    "\n",
    "# Use ColumnTranformer to make a preprocessor object \n",
    "preprocessor = ColumnTransformer(\n",
    "    transformers=[\n",
    "        ('num', numeric_transformer, num_X),\n",
    "        ('cat', categorical_transformer, cat_X)\n",
    "    ])\n",
    "\n",
    "# Preprocessings on train set\n",
    "X_train = preprocessor.fit_transform(X_train)\n",
    "X_test  = preprocessor.transform(X_test)"
   ]
  },
  {
   "cell_type": "markdown",
   "metadata": {},
   "source": [
    "## Linear Regressor"
   ]
  },
  {
   "cell_type": "code",
   "execution_count": 5,
   "metadata": {},
   "outputs": [],
   "source": [
    "iterables = [[\"RMSE\", \"R2\", \"ADJ R2\"], [\"Train\", \"Test\"]]\n",
    "ind = pd.MultiIndex.from_product(iterables)\n",
    "\n",
    "metrics = pd.DataFrame(index = ind)"
   ]
  },
  {
   "cell_type": "code",
   "execution_count": 6,
   "metadata": {},
   "outputs": [
    {
     "data": {
      "text/html": [
       "<div>\n",
       "<style scoped>\n",
       "    .dataframe tbody tr th:only-of-type {\n",
       "        vertical-align: middle;\n",
       "    }\n",
       "\n",
       "    .dataframe tbody tr th {\n",
       "        vertical-align: top;\n",
       "    }\n",
       "\n",
       "    .dataframe thead th {\n",
       "        text-align: right;\n",
       "    }\n",
       "</style>\n",
       "<table border=\"1\" class=\"dataframe\">\n",
       "  <thead>\n",
       "    <tr style=\"text-align: right;\">\n",
       "      <th></th>\n",
       "      <th></th>\n",
       "      <th>Linear Regressor</th>\n",
       "    </tr>\n",
       "  </thead>\n",
       "  <tbody>\n",
       "    <tr>\n",
       "      <th rowspan=\"2\" valign=\"top\">RMSE</th>\n",
       "      <th>Train</th>\n",
       "      <td>559332.999435</td>\n",
       "    </tr>\n",
       "    <tr>\n",
       "      <th>Test</th>\n",
       "      <td>567622.906003</td>\n",
       "    </tr>\n",
       "    <tr>\n",
       "      <th rowspan=\"2\" valign=\"top\">R2</th>\n",
       "      <th>Train</th>\n",
       "      <td>0.027987</td>\n",
       "    </tr>\n",
       "    <tr>\n",
       "      <th>Test</th>\n",
       "      <td>0.032217</td>\n",
       "    </tr>\n",
       "    <tr>\n",
       "      <th rowspan=\"2\" valign=\"top\">ADJ R2</th>\n",
       "      <th>Train</th>\n",
       "      <td>0.026828</td>\n",
       "    </tr>\n",
       "    <tr>\n",
       "      <th>Test</th>\n",
       "      <td>0.031062</td>\n",
       "    </tr>\n",
       "  </tbody>\n",
       "</table>\n",
       "</div>"
      ],
      "text/plain": [
       "              Linear Regressor\n",
       "RMSE   Train     559332.999435\n",
       "       Test      567622.906003\n",
       "R2     Train          0.027987\n",
       "       Test           0.032217\n",
       "ADJ R2 Train          0.026828\n",
       "       Test           0.031062"
      ]
     },
     "execution_count": 6,
     "metadata": {},
     "output_type": "execute_result"
    }
   ],
   "source": [
    "linear_regressor = LinearRegression()\n",
    "linear_regressor.fit(X_train, Y_train)\n",
    "\n",
    "y_train_pred, y_test_pred= linear_regressor.predict(X_train), linear_regressor.predict(X_test)\n",
    "mse_train, mse_test = mean_squared_error(Y_train,y_train_pred ), mean_squared_error(Y_test, y_test_pred)\n",
    "r2_train, r2_test = r2_score(Y_train,y_train_pred), r2_score(Y_test, y_test_pred)\n",
    "adjR2_train, adjR2_test = MyFunct.adjusted_r2(r2_train, X_train.shape[0], X_train.shape[1]), MyFunct.adjusted_r2(r2_test, X_train.shape[0], X_train.shape[1]) \n",
    "\n",
    "# compute SS for the F_value computation\n",
    "SST1, SSR1, SSE1 = MyFunct.sum_squares(Y_train, y_train_pred)\n",
    "\n",
    "metrics['Linear Regressor'] = [np.sqrt(mse_train), np.sqrt(mse_test), r2_train, r2_test,adjR2_train, adjR2_test]\n",
    "metrics"
   ]
  },
  {
   "cell_type": "markdown",
   "metadata": {},
   "source": [
    ">🗒 Note: The obtained very low scores confirmed that the predictor **Store** explains the **majority of the target variability**. "
   ]
  },
  {
   "cell_type": "markdown",
   "metadata": {},
   "source": [
    "## Features Importance"
   ]
  },
  {
   "cell_type": "code",
   "execution_count": 7,
   "metadata": {},
   "outputs": [
    {
     "data": {
      "text/html": [
       "<iframe\n",
       "    scrolling=\"no\"\n",
       "    width=\"100%\"\n",
       "    height=\"545px\"\n",
       "    src=\"iframe_figures/figure_7.html\"\n",
       "    frameborder=\"0\"\n",
       "    allowfullscreen\n",
       "></iframe>\n"
      ]
     },
     "metadata": {},
     "output_type": "display_data"
    }
   ],
   "source": [
    "coef = pd.DataFrame()\n",
    "coef['feature'] = ['Temperature', 'Fuel_Price', 'CPI', 'Unemployment', 'Week','Holiday_Flag']\n",
    "\n",
    "coef['coef_linear_regressor'] = linear_regressor.coef_\n",
    "coef['coef_linear_regressor'] = coef.coef_linear_regressor.abs()\n",
    "coef = coef.sort_values(by = 'coef_linear_regressor', ascending = True)\n",
    "\n",
    "px.bar(coef, x ='coef_linear_regressor', y = 'feature')"
   ]
  },
  {
   "cell_type": "markdown",
   "metadata": {},
   "source": [
    "\n",
    ">> The predictors importance ordering coincide with our human intuition. The consumer price index (CPI) and the unemployment are the most important predictors, the week and the holiday_flag are as well significant predictors.\n",
    "\n",
    ">> Propose another model that do not use stores as predictors"
   ]
  }
 ],
 "metadata": {
  "kernelspec": {
   "display_name": "Python 3 (ipykernel)",
   "language": "python",
   "name": "python3"
  },
  "language_info": {
   "codemirror_mode": {
    "name": "ipython",
    "version": 3
   },
   "file_extension": ".py",
   "mimetype": "text/x-python",
   "name": "python",
   "nbconvert_exporter": "python",
   "pygments_lexer": "ipython3",
   "version": "3.9.7"
  },
  "toc-autonumbering": false
 },
 "nbformat": 4,
 "nbformat_minor": 4
}
